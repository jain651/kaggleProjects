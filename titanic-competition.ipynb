{
 "cells": [
  {
   "cell_type": "code",
   "execution_count": 1,
   "id": "c62d52b3",
   "metadata": {
    "_cell_guid": "b1076dfc-b9ad-4769-8c92-a6c4dae69d19",
    "_uuid": "8f2839f25d086af736a60e9eeb907d3b93b6e0e5",
    "execution": {
     "iopub.execute_input": "2022-10-02T04:05:38.038809Z",
     "iopub.status.busy": "2022-10-02T04:05:38.037562Z",
     "iopub.status.idle": "2022-10-02T04:05:38.053683Z",
     "shell.execute_reply": "2022-10-02T04:05:38.052820Z"
    },
    "papermill": {
     "duration": 0.028205,
     "end_time": "2022-10-02T04:05:38.056518",
     "exception": false,
     "start_time": "2022-10-02T04:05:38.028313",
     "status": "completed"
    },
    "tags": []
   },
   "outputs": [
    {
     "name": "stdout",
     "output_type": "stream",
     "text": [
      "/kaggle/input/titanic/train.csv\n",
      "/kaggle/input/titanic/test.csv\n",
      "/kaggle/input/titanic/gender_submission.csv\n"
     ]
    }
   ],
   "source": [
    "# This Python 3 environment comes with many helpful analytics libraries installed\n",
    "# It is defined by the kaggle/python Docker image: https://github.com/kaggle/docker-python\n",
    "# For example, here's several helpful packages to load\n",
    "\n",
    "import numpy as np # linear algebra\n",
    "import pandas as pd # data processing, CSV file I/O (e.g. pd.read_csv)\n",
    "\n",
    "# Input data files are available in the read-only \"../input/\" directory\n",
    "# For example, running this (by clicking run or pressing Shift+Enter) will list all files under the input directory\n",
    "\n",
    "import os\n",
    "for dirname, _, filenames in os.walk('/kaggle/input'):\n",
    "    for filename in filenames:\n",
    "        print(os.path.join(dirname, filename))\n",
    "\n",
    "# You can write up to 20GB to the current directory (/kaggle/working/) that gets preserved as output when you create a version using \"Save & Run All\" \n",
    "# You can also write temporary files to /kaggle/temp/, but they won't be saved outside of the current session"
   ]
  },
  {
   "cell_type": "code",
   "execution_count": 2,
   "id": "fb8f9b27",
   "metadata": {
    "execution": {
     "iopub.execute_input": "2022-10-02T04:05:38.074725Z",
     "iopub.status.busy": "2022-10-02T04:05:38.074304Z",
     "iopub.status.idle": "2022-10-02T04:05:39.140144Z",
     "shell.execute_reply": "2022-10-02T04:05:39.139114Z"
    },
    "papermill": {
     "duration": 1.077493,
     "end_time": "2022-10-02T04:05:39.142689",
     "exception": false,
     "start_time": "2022-10-02T04:05:38.065196",
     "status": "completed"
    },
    "tags": []
   },
   "outputs": [],
   "source": [
    "# import libraries\n",
    "import seaborn as sns"
   ]
  },
  {
   "cell_type": "code",
   "execution_count": 3,
   "id": "1c839c16",
   "metadata": {
    "execution": {
     "iopub.execute_input": "2022-10-02T04:05:39.156791Z",
     "iopub.status.busy": "2022-10-02T04:05:39.155937Z",
     "iopub.status.idle": "2022-10-02T04:05:39.186529Z",
     "shell.execute_reply": "2022-10-02T04:05:39.185655Z"
    },
    "papermill": {
     "duration": 0.040167,
     "end_time": "2022-10-02T04:05:39.189052",
     "exception": false,
     "start_time": "2022-10-02T04:05:39.148885",
     "status": "completed"
    },
    "tags": []
   },
   "outputs": [],
   "source": [
    "gs = pd.read_csv(\"../input/titanic/gender_submission.csv\")\n",
    "train = pd.read_csv(\"../input/titanic/train.csv\")\n",
    "test = pd.read_csv(\"../input/titanic/train.csv\")\n"
   ]
  },
  {
   "cell_type": "code",
   "execution_count": 4,
   "id": "6d112216",
   "metadata": {
    "execution": {
     "iopub.execute_input": "2022-10-02T04:05:39.202371Z",
     "iopub.status.busy": "2022-10-02T04:05:39.201981Z",
     "iopub.status.idle": "2022-10-02T04:05:39.224910Z",
     "shell.execute_reply": "2022-10-02T04:05:39.223781Z"
    },
    "papermill": {
     "duration": 0.031972,
     "end_time": "2022-10-02T04:05:39.227062",
     "exception": false,
     "start_time": "2022-10-02T04:05:39.195090",
     "status": "completed"
    },
    "tags": []
   },
   "outputs": [
    {
     "data": {
      "text/html": [
       "<div>\n",
       "<style scoped>\n",
       "    .dataframe tbody tr th:only-of-type {\n",
       "        vertical-align: middle;\n",
       "    }\n",
       "\n",
       "    .dataframe tbody tr th {\n",
       "        vertical-align: top;\n",
       "    }\n",
       "\n",
       "    .dataframe thead th {\n",
       "        text-align: right;\n",
       "    }\n",
       "</style>\n",
       "<table border=\"1\" class=\"dataframe\">\n",
       "  <thead>\n",
       "    <tr style=\"text-align: right;\">\n",
       "      <th></th>\n",
       "      <th>PassengerId</th>\n",
       "      <th>Survived</th>\n",
       "      <th>Pclass</th>\n",
       "      <th>Name</th>\n",
       "      <th>Sex</th>\n",
       "      <th>Age</th>\n",
       "      <th>SibSp</th>\n",
       "      <th>Parch</th>\n",
       "      <th>Ticket</th>\n",
       "      <th>Fare</th>\n",
       "      <th>Cabin</th>\n",
       "      <th>Embarked</th>\n",
       "    </tr>\n",
       "  </thead>\n",
       "  <tbody>\n",
       "    <tr>\n",
       "      <th>0</th>\n",
       "      <td>1</td>\n",
       "      <td>0</td>\n",
       "      <td>3</td>\n",
       "      <td>Braund, Mr. Owen Harris</td>\n",
       "      <td>male</td>\n",
       "      <td>22.0</td>\n",
       "      <td>1</td>\n",
       "      <td>0</td>\n",
       "      <td>A/5 21171</td>\n",
       "      <td>7.2500</td>\n",
       "      <td>NaN</td>\n",
       "      <td>S</td>\n",
       "    </tr>\n",
       "    <tr>\n",
       "      <th>1</th>\n",
       "      <td>2</td>\n",
       "      <td>1</td>\n",
       "      <td>1</td>\n",
       "      <td>Cumings, Mrs. John Bradley (Florence Briggs Th...</td>\n",
       "      <td>female</td>\n",
       "      <td>38.0</td>\n",
       "      <td>1</td>\n",
       "      <td>0</td>\n",
       "      <td>PC 17599</td>\n",
       "      <td>71.2833</td>\n",
       "      <td>C85</td>\n",
       "      <td>C</td>\n",
       "    </tr>\n",
       "    <tr>\n",
       "      <th>2</th>\n",
       "      <td>3</td>\n",
       "      <td>1</td>\n",
       "      <td>3</td>\n",
       "      <td>Heikkinen, Miss. Laina</td>\n",
       "      <td>female</td>\n",
       "      <td>26.0</td>\n",
       "      <td>0</td>\n",
       "      <td>0</td>\n",
       "      <td>STON/O2. 3101282</td>\n",
       "      <td>7.9250</td>\n",
       "      <td>NaN</td>\n",
       "      <td>S</td>\n",
       "    </tr>\n",
       "    <tr>\n",
       "      <th>3</th>\n",
       "      <td>4</td>\n",
       "      <td>1</td>\n",
       "      <td>1</td>\n",
       "      <td>Futrelle, Mrs. Jacques Heath (Lily May Peel)</td>\n",
       "      <td>female</td>\n",
       "      <td>35.0</td>\n",
       "      <td>1</td>\n",
       "      <td>0</td>\n",
       "      <td>113803</td>\n",
       "      <td>53.1000</td>\n",
       "      <td>C123</td>\n",
       "      <td>S</td>\n",
       "    </tr>\n",
       "    <tr>\n",
       "      <th>4</th>\n",
       "      <td>5</td>\n",
       "      <td>0</td>\n",
       "      <td>3</td>\n",
       "      <td>Allen, Mr. William Henry</td>\n",
       "      <td>male</td>\n",
       "      <td>35.0</td>\n",
       "      <td>0</td>\n",
       "      <td>0</td>\n",
       "      <td>373450</td>\n",
       "      <td>8.0500</td>\n",
       "      <td>NaN</td>\n",
       "      <td>S</td>\n",
       "    </tr>\n",
       "  </tbody>\n",
       "</table>\n",
       "</div>"
      ],
      "text/plain": [
       "   PassengerId  Survived  Pclass  \\\n",
       "0            1         0       3   \n",
       "1            2         1       1   \n",
       "2            3         1       3   \n",
       "3            4         1       1   \n",
       "4            5         0       3   \n",
       "\n",
       "                                                Name     Sex   Age  SibSp  \\\n",
       "0                            Braund, Mr. Owen Harris    male  22.0      1   \n",
       "1  Cumings, Mrs. John Bradley (Florence Briggs Th...  female  38.0      1   \n",
       "2                             Heikkinen, Miss. Laina  female  26.0      0   \n",
       "3       Futrelle, Mrs. Jacques Heath (Lily May Peel)  female  35.0      1   \n",
       "4                           Allen, Mr. William Henry    male  35.0      0   \n",
       "\n",
       "   Parch            Ticket     Fare Cabin Embarked  \n",
       "0      0         A/5 21171   7.2500   NaN        S  \n",
       "1      0          PC 17599  71.2833   C85        C  \n",
       "2      0  STON/O2. 3101282   7.9250   NaN        S  \n",
       "3      0            113803  53.1000  C123        S  \n",
       "4      0            373450   8.0500   NaN        S  "
      ]
     },
     "execution_count": 4,
     "metadata": {},
     "output_type": "execute_result"
    }
   ],
   "source": [
    "train.head(5)"
   ]
  },
  {
   "cell_type": "code",
   "execution_count": 5,
   "id": "519caf36",
   "metadata": {
    "execution": {
     "iopub.execute_input": "2022-10-02T04:05:39.240901Z",
     "iopub.status.busy": "2022-10-02T04:05:39.240502Z",
     "iopub.status.idle": "2022-10-02T04:05:39.247140Z",
     "shell.execute_reply": "2022-10-02T04:05:39.245944Z"
    },
    "papermill": {
     "duration": 0.016383,
     "end_time": "2022-10-02T04:05:39.249468",
     "exception": false,
     "start_time": "2022-10-02T04:05:39.233085",
     "status": "completed"
    },
    "tags": []
   },
   "outputs": [
    {
     "data": {
      "text/plain": [
       "(891, 12)"
      ]
     },
     "execution_count": 5,
     "metadata": {},
     "output_type": "execute_result"
    }
   ],
   "source": [
    "train.shape"
   ]
  },
  {
   "cell_type": "code",
   "execution_count": 6,
   "id": "762c79f5",
   "metadata": {
    "execution": {
     "iopub.execute_input": "2022-10-02T04:05:39.263489Z",
     "iopub.status.busy": "2022-10-02T04:05:39.263115Z",
     "iopub.status.idle": "2022-10-02T04:05:39.275066Z",
     "shell.execute_reply": "2022-10-02T04:05:39.273837Z"
    },
    "papermill": {
     "duration": 0.02206,
     "end_time": "2022-10-02T04:05:39.277645",
     "exception": false,
     "start_time": "2022-10-02T04:05:39.255585",
     "status": "completed"
    },
    "tags": []
   },
   "outputs": [],
   "source": [
    "train.drop(columns=['PassengerId','Name','Ticket'],inplace=True)"
   ]
  },
  {
   "cell_type": "code",
   "execution_count": 7,
   "id": "e975dbae",
   "metadata": {
    "execution": {
     "iopub.execute_input": "2022-10-02T04:05:39.292192Z",
     "iopub.status.busy": "2022-10-02T04:05:39.291345Z",
     "iopub.status.idle": "2022-10-02T04:05:39.300997Z",
     "shell.execute_reply": "2022-10-02T04:05:39.299911Z"
    },
    "papermill": {
     "duration": 0.019355,
     "end_time": "2022-10-02T04:05:39.303367",
     "exception": false,
     "start_time": "2022-10-02T04:05:39.284012",
     "status": "completed"
    },
    "tags": []
   },
   "outputs": [
    {
     "data": {
      "text/plain": [
       "Survived      0\n",
       "Pclass        0\n",
       "Sex           0\n",
       "Age         177\n",
       "SibSp         0\n",
       "Parch         0\n",
       "Fare          0\n",
       "Cabin       687\n",
       "Embarked      2\n",
       "dtype: int64"
      ]
     },
     "execution_count": 7,
     "metadata": {},
     "output_type": "execute_result"
    }
   ],
   "source": [
    "train.isnull().sum()"
   ]
  },
  {
   "cell_type": "code",
   "execution_count": 8,
   "id": "8b53fba7",
   "metadata": {
    "execution": {
     "iopub.execute_input": "2022-10-02T04:05:39.317516Z",
     "iopub.status.busy": "2022-10-02T04:05:39.317112Z",
     "iopub.status.idle": "2022-10-02T04:05:39.324830Z",
     "shell.execute_reply": "2022-10-02T04:05:39.323765Z"
    },
    "papermill": {
     "duration": 0.017466,
     "end_time": "2022-10-02T04:05:39.327148",
     "exception": false,
     "start_time": "2022-10-02T04:05:39.309682",
     "status": "completed"
    },
    "tags": []
   },
   "outputs": [],
   "source": [
    "train.drop(columns='Cabin',inplace=True)"
   ]
  },
  {
   "cell_type": "code",
   "execution_count": 9,
   "id": "ffca9f45",
   "metadata": {
    "execution": {
     "iopub.execute_input": "2022-10-02T04:05:39.340947Z",
     "iopub.status.busy": "2022-10-02T04:05:39.340469Z",
     "iopub.status.idle": "2022-10-02T04:05:39.359645Z",
     "shell.execute_reply": "2022-10-02T04:05:39.358629Z"
    },
    "papermill": {
     "duration": 0.028684,
     "end_time": "2022-10-02T04:05:39.362017",
     "exception": false,
     "start_time": "2022-10-02T04:05:39.333333",
     "status": "completed"
    },
    "tags": []
   },
   "outputs": [
    {
     "data": {
      "text/html": [
       "<div>\n",
       "<style scoped>\n",
       "    .dataframe tbody tr th:only-of-type {\n",
       "        vertical-align: middle;\n",
       "    }\n",
       "\n",
       "    .dataframe tbody tr th {\n",
       "        vertical-align: top;\n",
       "    }\n",
       "\n",
       "    .dataframe thead th {\n",
       "        text-align: right;\n",
       "    }\n",
       "</style>\n",
       "<table border=\"1\" class=\"dataframe\">\n",
       "  <thead>\n",
       "    <tr style=\"text-align: right;\">\n",
       "      <th></th>\n",
       "      <th>Survived</th>\n",
       "      <th>Age</th>\n",
       "      <th>SibSp</th>\n",
       "      <th>Parch</th>\n",
       "      <th>Fare</th>\n",
       "    </tr>\n",
       "    <tr>\n",
       "      <th>Pclass</th>\n",
       "      <th></th>\n",
       "      <th></th>\n",
       "      <th></th>\n",
       "      <th></th>\n",
       "      <th></th>\n",
       "    </tr>\n",
       "  </thead>\n",
       "  <tbody>\n",
       "    <tr>\n",
       "      <th>1</th>\n",
       "      <td>0.466667</td>\n",
       "      <td>NaN</td>\n",
       "      <td>0.200000</td>\n",
       "      <td>0.033333</td>\n",
       "      <td>60.551940</td>\n",
       "    </tr>\n",
       "    <tr>\n",
       "      <th>2</th>\n",
       "      <td>0.363636</td>\n",
       "      <td>NaN</td>\n",
       "      <td>0.000000</td>\n",
       "      <td>0.000000</td>\n",
       "      <td>7.932955</td>\n",
       "    </tr>\n",
       "    <tr>\n",
       "      <th>3</th>\n",
       "      <td>0.250000</td>\n",
       "      <td>NaN</td>\n",
       "      <td>0.691176</td>\n",
       "      <td>0.227941</td>\n",
       "      <td>14.840041</td>\n",
       "    </tr>\n",
       "  </tbody>\n",
       "</table>\n",
       "</div>"
      ],
      "text/plain": [
       "        Survived  Age     SibSp     Parch       Fare\n",
       "Pclass                                              \n",
       "1       0.466667  NaN  0.200000  0.033333  60.551940\n",
       "2       0.363636  NaN  0.000000  0.000000   7.932955\n",
       "3       0.250000  NaN  0.691176  0.227941  14.840041"
      ]
     },
     "execution_count": 9,
     "metadata": {},
     "output_type": "execute_result"
    }
   ],
   "source": [
    "train[train['Age'].isnull()].groupby(by='Pclass').mean()"
   ]
  },
  {
   "cell_type": "code",
   "execution_count": 10,
   "id": "c4837939",
   "metadata": {
    "execution": {
     "iopub.execute_input": "2022-10-02T04:05:39.376804Z",
     "iopub.status.busy": "2022-10-02T04:05:39.376344Z",
     "iopub.status.idle": "2022-10-02T04:05:39.395142Z",
     "shell.execute_reply": "2022-10-02T04:05:39.393895Z"
    },
    "papermill": {
     "duration": 0.028926,
     "end_time": "2022-10-02T04:05:39.397451",
     "exception": false,
     "start_time": "2022-10-02T04:05:39.368525",
     "status": "completed"
    },
    "tags": []
   },
   "outputs": [
    {
     "data": {
      "text/html": [
       "<div>\n",
       "<style scoped>\n",
       "    .dataframe tbody tr th:only-of-type {\n",
       "        vertical-align: middle;\n",
       "    }\n",
       "\n",
       "    .dataframe tbody tr th {\n",
       "        vertical-align: top;\n",
       "    }\n",
       "\n",
       "    .dataframe thead th {\n",
       "        text-align: right;\n",
       "    }\n",
       "</style>\n",
       "<table border=\"1\" class=\"dataframe\">\n",
       "  <thead>\n",
       "    <tr style=\"text-align: right;\">\n",
       "      <th></th>\n",
       "      <th></th>\n",
       "      <th></th>\n",
       "      <th>Age</th>\n",
       "    </tr>\n",
       "    <tr>\n",
       "      <th>SibSp</th>\n",
       "      <th>Pclass</th>\n",
       "      <th>Parch</th>\n",
       "      <th></th>\n",
       "    </tr>\n",
       "  </thead>\n",
       "  <tbody>\n",
       "    <tr>\n",
       "      <th>3</th>\n",
       "      <th>3</th>\n",
       "      <th>2</th>\n",
       "      <td>6.250000</td>\n",
       "    </tr>\n",
       "    <tr>\n",
       "      <th rowspan=\"2\" valign=\"top\">4</th>\n",
       "      <th rowspan=\"2\" valign=\"top\">3</th>\n",
       "      <th>1</th>\n",
       "      <td>6.777778</td>\n",
       "    </tr>\n",
       "    <tr>\n",
       "      <th>2</th>\n",
       "      <td>7.333333</td>\n",
       "    </tr>\n",
       "    <tr>\n",
       "      <th>5</th>\n",
       "      <th>3</th>\n",
       "      <th>2</th>\n",
       "      <td>10.200000</td>\n",
       "    </tr>\n",
       "    <tr>\n",
       "      <th>8</th>\n",
       "      <th>3</th>\n",
       "      <th>2</th>\n",
       "      <td>NaN</td>\n",
       "    </tr>\n",
       "  </tbody>\n",
       "</table>\n",
       "</div>"
      ],
      "text/plain": [
       "                          Age\n",
       "SibSp Pclass Parch           \n",
       "3     3      2       6.250000\n",
       "4     3      1       6.777778\n",
       "             2       7.333333\n",
       "5     3      2      10.200000\n",
       "8     3      2            NaN"
      ]
     },
     "execution_count": 10,
     "metadata": {},
     "output_type": "execute_result"
    }
   ],
   "source": [
    "mean_value = train.groupby(by=['SibSp','Pclass','Parch'])[['Age']].mean()\n",
    "mean_value.tail()"
   ]
  },
  {
   "cell_type": "code",
   "execution_count": 11,
   "id": "5f641c85",
   "metadata": {
    "execution": {
     "iopub.execute_input": "2022-10-02T04:05:39.412959Z",
     "iopub.status.busy": "2022-10-02T04:05:39.412527Z",
     "iopub.status.idle": "2022-10-02T04:05:39.426708Z",
     "shell.execute_reply": "2022-10-02T04:05:39.425485Z"
    },
    "papermill": {
     "duration": 0.024867,
     "end_time": "2022-10-02T04:05:39.429153",
     "exception": false,
     "start_time": "2022-10-02T04:05:39.404286",
     "status": "completed"
    },
    "tags": []
   },
   "outputs": [
    {
     "data": {
      "text/plain": [
       "Age    41.005814\n",
       "Name: (0, 1, 0), dtype: float64"
      ]
     },
     "execution_count": 11,
     "metadata": {},
     "output_type": "execute_result"
    }
   ],
   "source": [
    "mean_value.loc[(0,1,0),]"
   ]
  },
  {
   "cell_type": "code",
   "execution_count": 12,
   "id": "7e07015e",
   "metadata": {
    "execution": {
     "iopub.execute_input": "2022-10-02T04:05:39.445419Z",
     "iopub.status.busy": "2022-10-02T04:05:39.445025Z",
     "iopub.status.idle": "2022-10-02T04:05:39.461085Z",
     "shell.execute_reply": "2022-10-02T04:05:39.460106Z"
    },
    "papermill": {
     "duration": 0.026366,
     "end_time": "2022-10-02T04:05:39.463414",
     "exception": false,
     "start_time": "2022-10-02T04:05:39.437048",
     "status": "completed"
    },
    "tags": []
   },
   "outputs": [
    {
     "data": {
      "text/html": [
       "<div>\n",
       "<style scoped>\n",
       "    .dataframe tbody tr th:only-of-type {\n",
       "        vertical-align: middle;\n",
       "    }\n",
       "\n",
       "    .dataframe tbody tr th {\n",
       "        vertical-align: top;\n",
       "    }\n",
       "\n",
       "    .dataframe thead th {\n",
       "        text-align: right;\n",
       "    }\n",
       "</style>\n",
       "<table border=\"1\" class=\"dataframe\">\n",
       "  <thead>\n",
       "    <tr style=\"text-align: right;\">\n",
       "      <th></th>\n",
       "      <th></th>\n",
       "      <th></th>\n",
       "      <th>Age</th>\n",
       "    </tr>\n",
       "    <tr>\n",
       "      <th>SibSp</th>\n",
       "      <th>Pclass</th>\n",
       "      <th>Parch</th>\n",
       "      <th></th>\n",
       "    </tr>\n",
       "  </thead>\n",
       "  <tbody>\n",
       "    <tr>\n",
       "      <th rowspan=\"2\" valign=\"top\">1</th>\n",
       "      <th rowspan=\"2\" valign=\"top\">3</th>\n",
       "      <th>1</th>\n",
       "      <td>NaN</td>\n",
       "    </tr>\n",
       "    <tr>\n",
       "      <th>2</th>\n",
       "      <td>NaN</td>\n",
       "    </tr>\n",
       "    <tr>\n",
       "      <th>2</th>\n",
       "      <th>3</th>\n",
       "      <th>0</th>\n",
       "      <td>NaN</td>\n",
       "    </tr>\n",
       "    <tr>\n",
       "      <th>3</th>\n",
       "      <th>3</th>\n",
       "      <th>1</th>\n",
       "      <td>NaN</td>\n",
       "    </tr>\n",
       "    <tr>\n",
       "      <th>8</th>\n",
       "      <th>3</th>\n",
       "      <th>2</th>\n",
       "      <td>NaN</td>\n",
       "    </tr>\n",
       "  </tbody>\n",
       "</table>\n",
       "</div>"
      ],
      "text/plain": [
       "                    Age\n",
       "SibSp Pclass Parch     \n",
       "1     3      1      NaN\n",
       "             2      NaN\n",
       "2     3      0      NaN\n",
       "3     3      1      NaN\n",
       "8     3      2      NaN"
      ]
     },
     "execution_count": 12,
     "metadata": {},
     "output_type": "execute_result"
    }
   ],
   "source": [
    "train_nan = train[train['Age'].isnull()].groupby(by=['SibSp','Pclass','Parch'])[['Age']].mean()\n",
    "train_nan.tail()"
   ]
  },
  {
   "cell_type": "code",
   "execution_count": 13,
   "id": "0f594e8f",
   "metadata": {
    "execution": {
     "iopub.execute_input": "2022-10-02T04:05:39.479136Z",
     "iopub.status.busy": "2022-10-02T04:05:39.478733Z",
     "iopub.status.idle": "2022-10-02T04:05:39.586601Z",
     "shell.execute_reply": "2022-10-02T04:05:39.585480Z"
    },
    "papermill": {
     "duration": 0.118875,
     "end_time": "2022-10-02T04:05:39.589339",
     "exception": false,
     "start_time": "2022-10-02T04:05:39.470464",
     "status": "completed"
    },
    "tags": []
   },
   "outputs": [],
   "source": [
    "for row_index, group in train_nan.iterrows():\n",
    "    for i, record in train[train['Age'].isnull()].iterrows():\n",
    "        if(record['SibSp']==row_index[0] and record['Pclass']==row_index[1] and record['Parch']==row_index[2]):\n",
    "            train.at[i,'Age'] = mean_value.loc[row_index,]"
   ]
  },
  {
   "cell_type": "code",
   "execution_count": 14,
   "id": "42bfe2a1",
   "metadata": {
    "execution": {
     "iopub.execute_input": "2022-10-02T04:05:39.605626Z",
     "iopub.status.busy": "2022-10-02T04:05:39.605231Z",
     "iopub.status.idle": "2022-10-02T04:05:39.617151Z",
     "shell.execute_reply": "2022-10-02T04:05:39.616270Z"
    },
    "papermill": {
     "duration": 0.022369,
     "end_time": "2022-10-02T04:05:39.619322",
     "exception": false,
     "start_time": "2022-10-02T04:05:39.596953",
     "status": "completed"
    },
    "tags": []
   },
   "outputs": [
    {
     "data": {
      "text/plain": [
       "Survived    0\n",
       "Pclass      0\n",
       "Sex         0\n",
       "Age         7\n",
       "SibSp       0\n",
       "Parch       0\n",
       "Fare        0\n",
       "Embarked    2\n",
       "dtype: int64"
      ]
     },
     "execution_count": 14,
     "metadata": {},
     "output_type": "execute_result"
    }
   ],
   "source": [
    "train.isnull().sum()"
   ]
  },
  {
   "cell_type": "code",
   "execution_count": 15,
   "id": "c5011938",
   "metadata": {
    "execution": {
     "iopub.execute_input": "2022-10-02T04:05:39.635847Z",
     "iopub.status.busy": "2022-10-02T04:05:39.634688Z",
     "iopub.status.idle": "2022-10-02T04:05:39.649065Z",
     "shell.execute_reply": "2022-10-02T04:05:39.647975Z"
    },
    "papermill": {
     "duration": 0.024917,
     "end_time": "2022-10-02T04:05:39.651420",
     "exception": false,
     "start_time": "2022-10-02T04:05:39.626503",
     "status": "completed"
    },
    "tags": []
   },
   "outputs": [
    {
     "data": {
      "text/html": [
       "<div>\n",
       "<style scoped>\n",
       "    .dataframe tbody tr th:only-of-type {\n",
       "        vertical-align: middle;\n",
       "    }\n",
       "\n",
       "    .dataframe tbody tr th {\n",
       "        vertical-align: top;\n",
       "    }\n",
       "\n",
       "    .dataframe thead th {\n",
       "        text-align: right;\n",
       "    }\n",
       "</style>\n",
       "<table border=\"1\" class=\"dataframe\">\n",
       "  <thead>\n",
       "    <tr style=\"text-align: right;\">\n",
       "      <th></th>\n",
       "      <th></th>\n",
       "      <th></th>\n",
       "      <th>Age</th>\n",
       "    </tr>\n",
       "    <tr>\n",
       "      <th>SibSp</th>\n",
       "      <th>Pclass</th>\n",
       "      <th>Parch</th>\n",
       "      <th></th>\n",
       "    </tr>\n",
       "  </thead>\n",
       "  <tbody>\n",
       "    <tr>\n",
       "      <th>8</th>\n",
       "      <th>3</th>\n",
       "      <th>2</th>\n",
       "      <td>NaN</td>\n",
       "    </tr>\n",
       "  </tbody>\n",
       "</table>\n",
       "</div>"
      ],
      "text/plain": [
       "                    Age\n",
       "SibSp Pclass Parch     \n",
       "8     3      2      NaN"
      ]
     },
     "execution_count": 15,
     "metadata": {},
     "output_type": "execute_result"
    }
   ],
   "source": [
    "train_nan = train[train['Age'].isnull()].groupby(by=['SibSp','Pclass','Parch'])[['Age']].mean()\n",
    "train_nan.head()"
   ]
  },
  {
   "cell_type": "code",
   "execution_count": 16,
   "id": "5f76facb",
   "metadata": {
    "execution": {
     "iopub.execute_input": "2022-10-02T04:05:39.668367Z",
     "iopub.status.busy": "2022-10-02T04:05:39.667451Z",
     "iopub.status.idle": "2022-10-02T04:05:39.677463Z",
     "shell.execute_reply": "2022-10-02T04:05:39.676548Z"
    },
    "papermill": {
     "duration": 0.020868,
     "end_time": "2022-10-02T04:05:39.679795",
     "exception": false,
     "start_time": "2022-10-02T04:05:39.658927",
     "status": "completed"
    },
    "tags": []
   },
   "outputs": [],
   "source": [
    "for row_index, group in train_nan.iterrows():\n",
    "    for i, record in train[train['Age'].isnull()].iterrows():\n",
    "        if(record['Pclass']==row_index[1] and record['Parch']==row_index[2]):\n",
    "            train.at[i,'Age'] = mean_value.loc[row_index,]"
   ]
  },
  {
   "cell_type": "code",
   "execution_count": 17,
   "id": "491c06fe",
   "metadata": {
    "execution": {
     "iopub.execute_input": "2022-10-02T04:05:39.696728Z",
     "iopub.status.busy": "2022-10-02T04:05:39.695656Z",
     "iopub.status.idle": "2022-10-02T04:05:39.704509Z",
     "shell.execute_reply": "2022-10-02T04:05:39.703497Z"
    },
    "papermill": {
     "duration": 0.019522,
     "end_time": "2022-10-02T04:05:39.706547",
     "exception": false,
     "start_time": "2022-10-02T04:05:39.687025",
     "status": "completed"
    },
    "tags": []
   },
   "outputs": [
    {
     "data": {
      "text/plain": [
       "Survived    0\n",
       "Pclass      0\n",
       "Sex         0\n",
       "Age         7\n",
       "SibSp       0\n",
       "Parch       0\n",
       "Fare        0\n",
       "Embarked    2\n",
       "dtype: int64"
      ]
     },
     "execution_count": 17,
     "metadata": {},
     "output_type": "execute_result"
    }
   ],
   "source": [
    "train.isnull().sum()"
   ]
  },
  {
   "cell_type": "code",
   "execution_count": 18,
   "id": "d54ad804",
   "metadata": {
    "execution": {
     "iopub.execute_input": "2022-10-02T04:05:39.723508Z",
     "iopub.status.busy": "2022-10-02T04:05:39.722485Z",
     "iopub.status.idle": "2022-10-02T04:05:39.735122Z",
     "shell.execute_reply": "2022-10-02T04:05:39.734063Z"
    },
    "papermill": {
     "duration": 0.023472,
     "end_time": "2022-10-02T04:05:39.737324",
     "exception": false,
     "start_time": "2022-10-02T04:05:39.713852",
     "status": "completed"
    },
    "tags": []
   },
   "outputs": [
    {
     "data": {
      "text/plain": [
       "Survived    0\n",
       "Pclass      0\n",
       "Sex         0\n",
       "Age         0\n",
       "SibSp       0\n",
       "Parch       0\n",
       "Fare        0\n",
       "Embarked    0\n",
       "dtype: int64"
      ]
     },
     "execution_count": 18,
     "metadata": {},
     "output_type": "execute_result"
    }
   ],
   "source": [
    "train.dropna(inplace=True)\n",
    "train.isnull().sum()"
   ]
  },
  {
   "cell_type": "code",
   "execution_count": 19,
   "id": "726b449c",
   "metadata": {
    "execution": {
     "iopub.execute_input": "2022-10-02T04:05:39.753606Z",
     "iopub.status.busy": "2022-10-02T04:05:39.753206Z",
     "iopub.status.idle": "2022-10-02T04:05:39.779273Z",
     "shell.execute_reply": "2022-10-02T04:05:39.778077Z"
    },
    "papermill": {
     "duration": 0.0372,
     "end_time": "2022-10-02T04:05:39.781882",
     "exception": false,
     "start_time": "2022-10-02T04:05:39.744682",
     "status": "completed"
    },
    "tags": []
   },
   "outputs": [
    {
     "data": {
      "text/html": [
       "<div>\n",
       "<style scoped>\n",
       "    .dataframe tbody tr th:only-of-type {\n",
       "        vertical-align: middle;\n",
       "    }\n",
       "\n",
       "    .dataframe tbody tr th {\n",
       "        vertical-align: top;\n",
       "    }\n",
       "\n",
       "    .dataframe thead th {\n",
       "        text-align: right;\n",
       "    }\n",
       "</style>\n",
       "<table border=\"1\" class=\"dataframe\">\n",
       "  <thead>\n",
       "    <tr style=\"text-align: right;\">\n",
       "      <th></th>\n",
       "      <th>Survived</th>\n",
       "      <th>Pclass</th>\n",
       "      <th>Age</th>\n",
       "      <th>SibSp</th>\n",
       "      <th>Parch</th>\n",
       "      <th>Fare</th>\n",
       "      <th>Sex_female</th>\n",
       "      <th>Sex_male</th>\n",
       "      <th>Embarked_C</th>\n",
       "      <th>Embarked_Q</th>\n",
       "      <th>Embarked_S</th>\n",
       "    </tr>\n",
       "  </thead>\n",
       "  <tbody>\n",
       "    <tr>\n",
       "      <th>0</th>\n",
       "      <td>0</td>\n",
       "      <td>3</td>\n",
       "      <td>22.0</td>\n",
       "      <td>1</td>\n",
       "      <td>0</td>\n",
       "      <td>7.2500</td>\n",
       "      <td>0</td>\n",
       "      <td>1</td>\n",
       "      <td>0</td>\n",
       "      <td>0</td>\n",
       "      <td>1</td>\n",
       "    </tr>\n",
       "    <tr>\n",
       "      <th>1</th>\n",
       "      <td>1</td>\n",
       "      <td>1</td>\n",
       "      <td>38.0</td>\n",
       "      <td>1</td>\n",
       "      <td>0</td>\n",
       "      <td>71.2833</td>\n",
       "      <td>1</td>\n",
       "      <td>0</td>\n",
       "      <td>1</td>\n",
       "      <td>0</td>\n",
       "      <td>0</td>\n",
       "    </tr>\n",
       "    <tr>\n",
       "      <th>2</th>\n",
       "      <td>1</td>\n",
       "      <td>3</td>\n",
       "      <td>26.0</td>\n",
       "      <td>0</td>\n",
       "      <td>0</td>\n",
       "      <td>7.9250</td>\n",
       "      <td>1</td>\n",
       "      <td>0</td>\n",
       "      <td>0</td>\n",
       "      <td>0</td>\n",
       "      <td>1</td>\n",
       "    </tr>\n",
       "    <tr>\n",
       "      <th>3</th>\n",
       "      <td>1</td>\n",
       "      <td>1</td>\n",
       "      <td>35.0</td>\n",
       "      <td>1</td>\n",
       "      <td>0</td>\n",
       "      <td>53.1000</td>\n",
       "      <td>1</td>\n",
       "      <td>0</td>\n",
       "      <td>0</td>\n",
       "      <td>0</td>\n",
       "      <td>1</td>\n",
       "    </tr>\n",
       "    <tr>\n",
       "      <th>4</th>\n",
       "      <td>0</td>\n",
       "      <td>3</td>\n",
       "      <td>35.0</td>\n",
       "      <td>0</td>\n",
       "      <td>0</td>\n",
       "      <td>8.0500</td>\n",
       "      <td>0</td>\n",
       "      <td>1</td>\n",
       "      <td>0</td>\n",
       "      <td>0</td>\n",
       "      <td>1</td>\n",
       "    </tr>\n",
       "  </tbody>\n",
       "</table>\n",
       "</div>"
      ],
      "text/plain": [
       "   Survived  Pclass   Age  SibSp  Parch     Fare  Sex_female  Sex_male  \\\n",
       "0         0       3  22.0      1      0   7.2500           0         1   \n",
       "1         1       1  38.0      1      0  71.2833           1         0   \n",
       "2         1       3  26.0      0      0   7.9250           1         0   \n",
       "3         1       1  35.0      1      0  53.1000           1         0   \n",
       "4         0       3  35.0      0      0   8.0500           0         1   \n",
       "\n",
       "   Embarked_C  Embarked_Q  Embarked_S  \n",
       "0           0           0           1  \n",
       "1           1           0           0  \n",
       "2           0           0           1  \n",
       "3           0           0           1  \n",
       "4           0           0           1  "
      ]
     },
     "execution_count": 19,
     "metadata": {},
     "output_type": "execute_result"
    }
   ],
   "source": [
    "train_dummies = pd.get_dummies(train[['Sex','Embarked']])\n",
    "train = pd.concat([train,train_dummies],axis=1)\n",
    "train.drop(columns=['Sex','Embarked'],inplace=True)\n",
    "train.head()"
   ]
  },
  {
   "cell_type": "code",
   "execution_count": null,
   "id": "20d456b6",
   "metadata": {
    "papermill": {
     "duration": 0.007532,
     "end_time": "2022-10-02T04:05:39.797581",
     "exception": false,
     "start_time": "2022-10-02T04:05:39.790049",
     "status": "completed"
    },
    "tags": []
   },
   "outputs": [],
   "source": []
  },
  {
   "cell_type": "code",
   "execution_count": null,
   "id": "a55fdcba",
   "metadata": {
    "papermill": {
     "duration": 0.007381,
     "end_time": "2022-10-02T04:05:39.812840",
     "exception": false,
     "start_time": "2022-10-02T04:05:39.805459",
     "status": "completed"
    },
    "tags": []
   },
   "outputs": [],
   "source": []
  },
  {
   "cell_type": "code",
   "execution_count": null,
   "id": "60293266",
   "metadata": {
    "papermill": {
     "duration": 0.007489,
     "end_time": "2022-10-02T04:05:39.828003",
     "exception": false,
     "start_time": "2022-10-02T04:05:39.820514",
     "status": "completed"
    },
    "tags": []
   },
   "outputs": [],
   "source": []
  },
  {
   "cell_type": "code",
   "execution_count": null,
   "id": "d2a85ebc",
   "metadata": {
    "papermill": {
     "duration": 0.007432,
     "end_time": "2022-10-02T04:05:39.843228",
     "exception": false,
     "start_time": "2022-10-02T04:05:39.835796",
     "status": "completed"
    },
    "tags": []
   },
   "outputs": [],
   "source": []
  }
 ],
 "metadata": {
  "kernelspec": {
   "display_name": "Python 3",
   "language": "python",
   "name": "python3"
  },
  "language_info": {
   "codemirror_mode": {
    "name": "ipython",
    "version": 3
   },
   "file_extension": ".py",
   "mimetype": "text/x-python",
   "name": "python",
   "nbconvert_exporter": "python",
   "pygments_lexer": "ipython3",
   "version": "3.7.12"
  },
  "papermill": {
   "default_parameters": {},
   "duration": 11.342754,
   "end_time": "2022-10-02T04:05:40.571966",
   "environment_variables": {},
   "exception": null,
   "input_path": "__notebook__.ipynb",
   "output_path": "__notebook__.ipynb",
   "parameters": {},
   "start_time": "2022-10-02T04:05:29.229212",
   "version": "2.3.4"
  }
 },
 "nbformat": 4,
 "nbformat_minor": 5
}
