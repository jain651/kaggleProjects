{
 "cells": [
  {
   "cell_type": "code",
   "execution_count": 1,
   "id": "6b047537",
   "metadata": {
    "_cell_guid": "b1076dfc-b9ad-4769-8c92-a6c4dae69d19",
    "_uuid": "8f2839f25d086af736a60e9eeb907d3b93b6e0e5",
    "execution": {
     "iopub.execute_input": "2022-09-25T23:23:22.240691Z",
     "iopub.status.busy": "2022-09-25T23:23:22.239704Z",
     "iopub.status.idle": "2022-09-25T23:23:22.260037Z",
     "shell.execute_reply": "2022-09-25T23:23:22.258852Z"
    },
    "papermill": {
     "duration": 0.032481,
     "end_time": "2022-09-25T23:23:22.263263",
     "exception": false,
     "start_time": "2022-09-25T23:23:22.230782",
     "status": "completed"
    },
    "tags": []
   },
   "outputs": [
    {
     "name": "stdout",
     "output_type": "stream",
     "text": [
      "/kaggle/input/titanic/train.csv\n",
      "/kaggle/input/titanic/test.csv\n",
      "/kaggle/input/titanic/gender_submission.csv\n"
     ]
    }
   ],
   "source": [
    "# This Python 3 environment comes with many helpful analytics libraries installed\n",
    "# It is defined by the kaggle/python Docker image: https://github.com/kaggle/docker-python\n",
    "# For example, here's several helpful packages to load\n",
    "\n",
    "import numpy as np # linear algebra\n",
    "import pandas as pd # data processing, CSV file I/O (e.g. pd.read_csv)\n",
    "\n",
    "# Input data files are available in the read-only \"../input/\" directory\n",
    "# For example, running this (by clicking run or pressing Shift+Enter) will list all files under the input directory\n",
    "\n",
    "import os\n",
    "for dirname, _, filenames in os.walk('/kaggle/input'):\n",
    "    for filename in filenames:\n",
    "        print(os.path.join(dirname, filename))\n",
    "\n",
    "# You can write up to 20GB to the current directory (/kaggle/working/) that gets preserved as output when you create a version using \"Save & Run All\" \n",
    "# You can also write temporary files to /kaggle/temp/, but they won't be saved outside of the current session"
   ]
  },
  {
   "cell_type": "code",
   "execution_count": 2,
   "id": "fcdfe17f",
   "metadata": {
    "execution": {
     "iopub.execute_input": "2022-09-25T23:23:22.274591Z",
     "iopub.status.busy": "2022-09-25T23:23:22.273737Z",
     "iopub.status.idle": "2022-09-25T23:23:23.339648Z",
     "shell.execute_reply": "2022-09-25T23:23:23.338365Z"
    },
    "papermill": {
     "duration": 1.074351,
     "end_time": "2022-09-25T23:23:23.342379",
     "exception": false,
     "start_time": "2022-09-25T23:23:22.268028",
     "status": "completed"
    },
    "tags": []
   },
   "outputs": [],
   "source": [
    "# import libraries\n",
    "import seaborn as sns"
   ]
  },
  {
   "cell_type": "code",
   "execution_count": 3,
   "id": "5d9d9a9c",
   "metadata": {
    "execution": {
     "iopub.execute_input": "2022-09-25T23:23:23.352434Z",
     "iopub.status.busy": "2022-09-25T23:23:23.352029Z",
     "iopub.status.idle": "2022-09-25T23:23:23.386732Z",
     "shell.execute_reply": "2022-09-25T23:23:23.385393Z"
    },
    "papermill": {
     "duration": 0.04267,
     "end_time": "2022-09-25T23:23:23.389348",
     "exception": false,
     "start_time": "2022-09-25T23:23:23.346678",
     "status": "completed"
    },
    "tags": []
   },
   "outputs": [],
   "source": [
    "gs = pd.read_csv(\"../input/titanic/gender_submission.csv\")\n",
    "train = pd.read_csv(\"../input/titanic/train.csv\")\n",
    "test = pd.read_csv(\"../input/titanic/train.csv\")\n"
   ]
  },
  {
   "cell_type": "code",
   "execution_count": 4,
   "id": "ea43c24f",
   "metadata": {
    "execution": {
     "iopub.execute_input": "2022-09-25T23:23:23.399294Z",
     "iopub.status.busy": "2022-09-25T23:23:23.398894Z",
     "iopub.status.idle": "2022-09-25T23:23:23.422693Z",
     "shell.execute_reply": "2022-09-25T23:23:23.421615Z"
    },
    "papermill": {
     "duration": 0.031583,
     "end_time": "2022-09-25T23:23:23.425144",
     "exception": false,
     "start_time": "2022-09-25T23:23:23.393561",
     "status": "completed"
    },
    "tags": []
   },
   "outputs": [
    {
     "data": {
      "text/html": [
       "<div>\n",
       "<style scoped>\n",
       "    .dataframe tbody tr th:only-of-type {\n",
       "        vertical-align: middle;\n",
       "    }\n",
       "\n",
       "    .dataframe tbody tr th {\n",
       "        vertical-align: top;\n",
       "    }\n",
       "\n",
       "    .dataframe thead th {\n",
       "        text-align: right;\n",
       "    }\n",
       "</style>\n",
       "<table border=\"1\" class=\"dataframe\">\n",
       "  <thead>\n",
       "    <tr style=\"text-align: right;\">\n",
       "      <th></th>\n",
       "      <th>PassengerId</th>\n",
       "      <th>Survived</th>\n",
       "      <th>Pclass</th>\n",
       "      <th>Name</th>\n",
       "      <th>Sex</th>\n",
       "      <th>Age</th>\n",
       "      <th>SibSp</th>\n",
       "      <th>Parch</th>\n",
       "      <th>Ticket</th>\n",
       "      <th>Fare</th>\n",
       "      <th>Cabin</th>\n",
       "      <th>Embarked</th>\n",
       "    </tr>\n",
       "  </thead>\n",
       "  <tbody>\n",
       "    <tr>\n",
       "      <th>0</th>\n",
       "      <td>1</td>\n",
       "      <td>0</td>\n",
       "      <td>3</td>\n",
       "      <td>Braund, Mr. Owen Harris</td>\n",
       "      <td>male</td>\n",
       "      <td>22.0</td>\n",
       "      <td>1</td>\n",
       "      <td>0</td>\n",
       "      <td>A/5 21171</td>\n",
       "      <td>7.2500</td>\n",
       "      <td>NaN</td>\n",
       "      <td>S</td>\n",
       "    </tr>\n",
       "    <tr>\n",
       "      <th>1</th>\n",
       "      <td>2</td>\n",
       "      <td>1</td>\n",
       "      <td>1</td>\n",
       "      <td>Cumings, Mrs. John Bradley (Florence Briggs Th...</td>\n",
       "      <td>female</td>\n",
       "      <td>38.0</td>\n",
       "      <td>1</td>\n",
       "      <td>0</td>\n",
       "      <td>PC 17599</td>\n",
       "      <td>71.2833</td>\n",
       "      <td>C85</td>\n",
       "      <td>C</td>\n",
       "    </tr>\n",
       "    <tr>\n",
       "      <th>2</th>\n",
       "      <td>3</td>\n",
       "      <td>1</td>\n",
       "      <td>3</td>\n",
       "      <td>Heikkinen, Miss. Laina</td>\n",
       "      <td>female</td>\n",
       "      <td>26.0</td>\n",
       "      <td>0</td>\n",
       "      <td>0</td>\n",
       "      <td>STON/O2. 3101282</td>\n",
       "      <td>7.9250</td>\n",
       "      <td>NaN</td>\n",
       "      <td>S</td>\n",
       "    </tr>\n",
       "    <tr>\n",
       "      <th>3</th>\n",
       "      <td>4</td>\n",
       "      <td>1</td>\n",
       "      <td>1</td>\n",
       "      <td>Futrelle, Mrs. Jacques Heath (Lily May Peel)</td>\n",
       "      <td>female</td>\n",
       "      <td>35.0</td>\n",
       "      <td>1</td>\n",
       "      <td>0</td>\n",
       "      <td>113803</td>\n",
       "      <td>53.1000</td>\n",
       "      <td>C123</td>\n",
       "      <td>S</td>\n",
       "    </tr>\n",
       "    <tr>\n",
       "      <th>4</th>\n",
       "      <td>5</td>\n",
       "      <td>0</td>\n",
       "      <td>3</td>\n",
       "      <td>Allen, Mr. William Henry</td>\n",
       "      <td>male</td>\n",
       "      <td>35.0</td>\n",
       "      <td>0</td>\n",
       "      <td>0</td>\n",
       "      <td>373450</td>\n",
       "      <td>8.0500</td>\n",
       "      <td>NaN</td>\n",
       "      <td>S</td>\n",
       "    </tr>\n",
       "  </tbody>\n",
       "</table>\n",
       "</div>"
      ],
      "text/plain": [
       "   PassengerId  Survived  Pclass  \\\n",
       "0            1         0       3   \n",
       "1            2         1       1   \n",
       "2            3         1       3   \n",
       "3            4         1       1   \n",
       "4            5         0       3   \n",
       "\n",
       "                                                Name     Sex   Age  SibSp  \\\n",
       "0                            Braund, Mr. Owen Harris    male  22.0      1   \n",
       "1  Cumings, Mrs. John Bradley (Florence Briggs Th...  female  38.0      1   \n",
       "2                             Heikkinen, Miss. Laina  female  26.0      0   \n",
       "3       Futrelle, Mrs. Jacques Heath (Lily May Peel)  female  35.0      1   \n",
       "4                           Allen, Mr. William Henry    male  35.0      0   \n",
       "\n",
       "   Parch            Ticket     Fare Cabin Embarked  \n",
       "0      0         A/5 21171   7.2500   NaN        S  \n",
       "1      0          PC 17599  71.2833   C85        C  \n",
       "2      0  STON/O2. 3101282   7.9250   NaN        S  \n",
       "3      0            113803  53.1000  C123        S  \n",
       "4      0            373450   8.0500   NaN        S  "
      ]
     },
     "execution_count": 4,
     "metadata": {},
     "output_type": "execute_result"
    }
   ],
   "source": [
    "train.head(5)"
   ]
  },
  {
   "cell_type": "code",
   "execution_count": 5,
   "id": "034bf48b",
   "metadata": {
    "execution": {
     "iopub.execute_input": "2022-09-25T23:23:23.435825Z",
     "iopub.status.busy": "2022-09-25T23:23:23.435450Z",
     "iopub.status.idle": "2022-09-25T23:23:23.442382Z",
     "shell.execute_reply": "2022-09-25T23:23:23.441195Z"
    },
    "papermill": {
     "duration": 0.015078,
     "end_time": "2022-09-25T23:23:23.444687",
     "exception": false,
     "start_time": "2022-09-25T23:23:23.429609",
     "status": "completed"
    },
    "tags": []
   },
   "outputs": [
    {
     "data": {
      "text/plain": [
       "(891, 12)"
      ]
     },
     "execution_count": 5,
     "metadata": {},
     "output_type": "execute_result"
    }
   ],
   "source": [
    "train.shape"
   ]
  },
  {
   "cell_type": "code",
   "execution_count": 6,
   "id": "0cc59153",
   "metadata": {
    "execution": {
     "iopub.execute_input": "2022-09-25T23:23:23.455294Z",
     "iopub.status.busy": "2022-09-25T23:23:23.454897Z",
     "iopub.status.idle": "2022-09-25T23:23:23.466678Z",
     "shell.execute_reply": "2022-09-25T23:23:23.465415Z"
    },
    "papermill": {
     "duration": 0.019626,
     "end_time": "2022-09-25T23:23:23.469011",
     "exception": false,
     "start_time": "2022-09-25T23:23:23.449385",
     "status": "completed"
    },
    "tags": []
   },
   "outputs": [],
   "source": [
    "train.drop(columns=['PassengerId','Name','Ticket'],inplace=True)"
   ]
  },
  {
   "cell_type": "code",
   "execution_count": 7,
   "id": "980b0084",
   "metadata": {
    "execution": {
     "iopub.execute_input": "2022-09-25T23:23:23.479541Z",
     "iopub.status.busy": "2022-09-25T23:23:23.479105Z",
     "iopub.status.idle": "2022-09-25T23:23:23.489749Z",
     "shell.execute_reply": "2022-09-25T23:23:23.488574Z"
    },
    "papermill": {
     "duration": 0.01891,
     "end_time": "2022-09-25T23:23:23.492409",
     "exception": false,
     "start_time": "2022-09-25T23:23:23.473499",
     "status": "completed"
    },
    "tags": []
   },
   "outputs": [
    {
     "data": {
      "text/plain": [
       "Survived      0\n",
       "Pclass        0\n",
       "Sex           0\n",
       "Age         177\n",
       "SibSp         0\n",
       "Parch         0\n",
       "Fare          0\n",
       "Cabin       687\n",
       "Embarked      2\n",
       "dtype: int64"
      ]
     },
     "execution_count": 7,
     "metadata": {},
     "output_type": "execute_result"
    }
   ],
   "source": [
    "train.isnull().sum()"
   ]
  },
  {
   "cell_type": "code",
   "execution_count": 8,
   "id": "955bc609",
   "metadata": {
    "execution": {
     "iopub.execute_input": "2022-09-25T23:23:23.503831Z",
     "iopub.status.busy": "2022-09-25T23:23:23.503459Z",
     "iopub.status.idle": "2022-09-25T23:23:23.510896Z",
     "shell.execute_reply": "2022-09-25T23:23:23.509943Z"
    },
    "papermill": {
     "duration": 0.015827,
     "end_time": "2022-09-25T23:23:23.513237",
     "exception": false,
     "start_time": "2022-09-25T23:23:23.497410",
     "status": "completed"
    },
    "tags": []
   },
   "outputs": [],
   "source": [
    "train.drop(columns='Cabin',inplace=True)"
   ]
  },
  {
   "cell_type": "code",
   "execution_count": 9,
   "id": "5f809d09",
   "metadata": {
    "execution": {
     "iopub.execute_input": "2022-09-25T23:23:23.523982Z",
     "iopub.status.busy": "2022-09-25T23:23:23.523617Z",
     "iopub.status.idle": "2022-09-25T23:23:23.542316Z",
     "shell.execute_reply": "2022-09-25T23:23:23.541189Z"
    },
    "papermill": {
     "duration": 0.026709,
     "end_time": "2022-09-25T23:23:23.544449",
     "exception": false,
     "start_time": "2022-09-25T23:23:23.517740",
     "status": "completed"
    },
    "tags": []
   },
   "outputs": [
    {
     "data": {
      "text/html": [
       "<div>\n",
       "<style scoped>\n",
       "    .dataframe tbody tr th:only-of-type {\n",
       "        vertical-align: middle;\n",
       "    }\n",
       "\n",
       "    .dataframe tbody tr th {\n",
       "        vertical-align: top;\n",
       "    }\n",
       "\n",
       "    .dataframe thead th {\n",
       "        text-align: right;\n",
       "    }\n",
       "</style>\n",
       "<table border=\"1\" class=\"dataframe\">\n",
       "  <thead>\n",
       "    <tr style=\"text-align: right;\">\n",
       "      <th></th>\n",
       "      <th>Survived</th>\n",
       "      <th>Age</th>\n",
       "      <th>SibSp</th>\n",
       "      <th>Parch</th>\n",
       "      <th>Fare</th>\n",
       "    </tr>\n",
       "    <tr>\n",
       "      <th>Pclass</th>\n",
       "      <th></th>\n",
       "      <th></th>\n",
       "      <th></th>\n",
       "      <th></th>\n",
       "      <th></th>\n",
       "    </tr>\n",
       "  </thead>\n",
       "  <tbody>\n",
       "    <tr>\n",
       "      <th>1</th>\n",
       "      <td>0.466667</td>\n",
       "      <td>NaN</td>\n",
       "      <td>0.200000</td>\n",
       "      <td>0.033333</td>\n",
       "      <td>60.551940</td>\n",
       "    </tr>\n",
       "    <tr>\n",
       "      <th>2</th>\n",
       "      <td>0.363636</td>\n",
       "      <td>NaN</td>\n",
       "      <td>0.000000</td>\n",
       "      <td>0.000000</td>\n",
       "      <td>7.932955</td>\n",
       "    </tr>\n",
       "    <tr>\n",
       "      <th>3</th>\n",
       "      <td>0.250000</td>\n",
       "      <td>NaN</td>\n",
       "      <td>0.691176</td>\n",
       "      <td>0.227941</td>\n",
       "      <td>14.840041</td>\n",
       "    </tr>\n",
       "  </tbody>\n",
       "</table>\n",
       "</div>"
      ],
      "text/plain": [
       "        Survived  Age     SibSp     Parch       Fare\n",
       "Pclass                                              \n",
       "1       0.466667  NaN  0.200000  0.033333  60.551940\n",
       "2       0.363636  NaN  0.000000  0.000000   7.932955\n",
       "3       0.250000  NaN  0.691176  0.227941  14.840041"
      ]
     },
     "execution_count": 9,
     "metadata": {},
     "output_type": "execute_result"
    }
   ],
   "source": [
    "train[train['Age'].isnull()].groupby(by='Pclass').mean()"
   ]
  },
  {
   "cell_type": "code",
   "execution_count": 10,
   "id": "584feda2",
   "metadata": {
    "execution": {
     "iopub.execute_input": "2022-09-25T23:23:23.555937Z",
     "iopub.status.busy": "2022-09-25T23:23:23.555324Z",
     "iopub.status.idle": "2022-09-25T23:23:23.572445Z",
     "shell.execute_reply": "2022-09-25T23:23:23.571618Z"
    },
    "papermill": {
     "duration": 0.025082,
     "end_time": "2022-09-25T23:23:23.574480",
     "exception": false,
     "start_time": "2022-09-25T23:23:23.549398",
     "status": "completed"
    },
    "tags": []
   },
   "outputs": [
    {
     "data": {
      "text/html": [
       "<div>\n",
       "<style scoped>\n",
       "    .dataframe tbody tr th:only-of-type {\n",
       "        vertical-align: middle;\n",
       "    }\n",
       "\n",
       "    .dataframe tbody tr th {\n",
       "        vertical-align: top;\n",
       "    }\n",
       "\n",
       "    .dataframe thead th {\n",
       "        text-align: right;\n",
       "    }\n",
       "</style>\n",
       "<table border=\"1\" class=\"dataframe\">\n",
       "  <thead>\n",
       "    <tr style=\"text-align: right;\">\n",
       "      <th></th>\n",
       "      <th></th>\n",
       "      <th></th>\n",
       "      <th>Age</th>\n",
       "    </tr>\n",
       "    <tr>\n",
       "      <th>SibSp</th>\n",
       "      <th>Pclass</th>\n",
       "      <th>Parch</th>\n",
       "      <th></th>\n",
       "    </tr>\n",
       "  </thead>\n",
       "  <tbody>\n",
       "    <tr>\n",
       "      <th rowspan=\"5\" valign=\"top\">0</th>\n",
       "      <th rowspan=\"2\" valign=\"top\">1</th>\n",
       "      <th>0</th>\n",
       "      <td>NaN</td>\n",
       "    </tr>\n",
       "    <tr>\n",
       "      <th>1</th>\n",
       "      <td>NaN</td>\n",
       "    </tr>\n",
       "    <tr>\n",
       "      <th>2</th>\n",
       "      <th>0</th>\n",
       "      <td>NaN</td>\n",
       "    </tr>\n",
       "    <tr>\n",
       "      <th rowspan=\"2\" valign=\"top\">3</th>\n",
       "      <th>0</th>\n",
       "      <td>NaN</td>\n",
       "    </tr>\n",
       "    <tr>\n",
       "      <th>2</th>\n",
       "      <td>NaN</td>\n",
       "    </tr>\n",
       "    <tr>\n",
       "      <th rowspan=\"4\" valign=\"top\">1</th>\n",
       "      <th>1</th>\n",
       "      <th>0</th>\n",
       "      <td>NaN</td>\n",
       "    </tr>\n",
       "    <tr>\n",
       "      <th rowspan=\"3\" valign=\"top\">3</th>\n",
       "      <th>0</th>\n",
       "      <td>NaN</td>\n",
       "    </tr>\n",
       "    <tr>\n",
       "      <th>1</th>\n",
       "      <td>NaN</td>\n",
       "    </tr>\n",
       "    <tr>\n",
       "      <th>2</th>\n",
       "      <td>NaN</td>\n",
       "    </tr>\n",
       "    <tr>\n",
       "      <th>2</th>\n",
       "      <th>3</th>\n",
       "      <th>0</th>\n",
       "      <td>NaN</td>\n",
       "    </tr>\n",
       "    <tr>\n",
       "      <th>3</th>\n",
       "      <th>3</th>\n",
       "      <th>1</th>\n",
       "      <td>NaN</td>\n",
       "    </tr>\n",
       "    <tr>\n",
       "      <th>8</th>\n",
       "      <th>3</th>\n",
       "      <th>2</th>\n",
       "      <td>NaN</td>\n",
       "    </tr>\n",
       "  </tbody>\n",
       "</table>\n",
       "</div>"
      ],
      "text/plain": [
       "                    Age\n",
       "SibSp Pclass Parch     \n",
       "0     1      0      NaN\n",
       "             1      NaN\n",
       "      2      0      NaN\n",
       "      3      0      NaN\n",
       "             2      NaN\n",
       "1     1      0      NaN\n",
       "      3      0      NaN\n",
       "             1      NaN\n",
       "             2      NaN\n",
       "2     3      0      NaN\n",
       "3     3      1      NaN\n",
       "8     3      2      NaN"
      ]
     },
     "execution_count": 10,
     "metadata": {},
     "output_type": "execute_result"
    }
   ],
   "source": [
    "train[train['Age'].isnull()].groupby(by=['SibSp','Pclass','Parch'])[['Age']].mean()"
   ]
  },
  {
   "cell_type": "code",
   "execution_count": 11,
   "id": "41e547a3",
   "metadata": {
    "execution": {
     "iopub.execute_input": "2022-09-25T23:23:23.586112Z",
     "iopub.status.busy": "2022-09-25T23:23:23.585490Z",
     "iopub.status.idle": "2022-09-25T23:23:23.598485Z",
     "shell.execute_reply": "2022-09-25T23:23:23.597554Z"
    },
    "papermill": {
     "duration": 0.021405,
     "end_time": "2022-09-25T23:23:23.600844",
     "exception": false,
     "start_time": "2022-09-25T23:23:23.579439",
     "status": "completed"
    },
    "tags": []
   },
   "outputs": [
    {
     "data": {
      "text/html": [
       "<div>\n",
       "<style scoped>\n",
       "    .dataframe tbody tr th:only-of-type {\n",
       "        vertical-align: middle;\n",
       "    }\n",
       "\n",
       "    .dataframe tbody tr th {\n",
       "        vertical-align: top;\n",
       "    }\n",
       "\n",
       "    .dataframe thead th {\n",
       "        text-align: right;\n",
       "    }\n",
       "</style>\n",
       "<table border=\"1\" class=\"dataframe\">\n",
       "  <thead>\n",
       "    <tr style=\"text-align: right;\">\n",
       "      <th></th>\n",
       "      <th></th>\n",
       "      <th></th>\n",
       "      <th>Age</th>\n",
       "    </tr>\n",
       "    <tr>\n",
       "      <th>SibSp</th>\n",
       "      <th>Pclass</th>\n",
       "      <th>Parch</th>\n",
       "      <th></th>\n",
       "    </tr>\n",
       "  </thead>\n",
       "  <tbody>\n",
       "    <tr>\n",
       "      <th rowspan=\"5\" valign=\"top\">0</th>\n",
       "      <th rowspan=\"3\" valign=\"top\">1</th>\n",
       "      <th>0</th>\n",
       "      <td>41.005814</td>\n",
       "    </tr>\n",
       "    <tr>\n",
       "      <th>1</th>\n",
       "      <td>37.166667</td>\n",
       "    </tr>\n",
       "    <tr>\n",
       "      <th>2</th>\n",
       "      <td>25.777778</td>\n",
       "    </tr>\n",
       "    <tr>\n",
       "      <th rowspan=\"2\" valign=\"top\">2</th>\n",
       "      <th>0</th>\n",
       "      <td>33.736559</td>\n",
       "    </tr>\n",
       "    <tr>\n",
       "      <th>1</th>\n",
       "      <td>26.875000</td>\n",
       "    </tr>\n",
       "  </tbody>\n",
       "</table>\n",
       "</div>"
      ],
      "text/plain": [
       "                          Age\n",
       "SibSp Pclass Parch           \n",
       "0     1      0      41.005814\n",
       "             1      37.166667\n",
       "             2      25.777778\n",
       "      2      0      33.736559\n",
       "             1      26.875000"
      ]
     },
     "execution_count": 11,
     "metadata": {},
     "output_type": "execute_result"
    }
   ],
   "source": [
    "# train[((train['SibSp']==0).multiply(train['Pclass']==1)).multiply(train['Parch']==0)]['Age'].fillna(value=mean_value)\n",
    "# for i, record in train[train['Age'].isnull()].iterrows:\n",
    "#     if(record['SibSp']==0 and record['Pclass']==1 and record['Parch']==0):\n",
    "#         train['Age'].fillna(value=mean_value, inplace=True)\n",
    "        \n",
    "\n",
    "\n",
    "# train['Age'].fillna(value=mean_value, inplace=True)\n",
    "# train['SibSp'].\n",
    "\n",
    "train.groupby(by=['SibSp','Pclass','Parch'])[['Age']].mean().head()"
   ]
  },
  {
   "cell_type": "code",
   "execution_count": 12,
   "id": "93bccf40",
   "metadata": {
    "execution": {
     "iopub.execute_input": "2022-09-25T23:23:23.613439Z",
     "iopub.status.busy": "2022-09-25T23:23:23.612623Z",
     "iopub.status.idle": "2022-09-25T23:23:23.623982Z",
     "shell.execute_reply": "2022-09-25T23:23:23.623058Z"
    },
    "papermill": {
     "duration": 0.020209,
     "end_time": "2022-09-25T23:23:23.626317",
     "exception": false,
     "start_time": "2022-09-25T23:23:23.606108",
     "status": "completed"
    },
    "tags": []
   },
   "outputs": [],
   "source": [
    "mask = (train['SibSp']==0) & (train['Pclass']==1) & (train['Parch']==0)\n",
    "mean = train.loc[mask, 'Age'].mean()\n",
    "train.loc[mask, 'Age'] = train.loc[mask, 'Age'].fillna(mean)\n",
    "meanAgeGrp = train.groupby(by=['SibSp','Pclass','Parch'])[['Age']].mean()\n",
    "# keys = meanAgeGrp.groups.keys()\n",
    "# keys"
   ]
  },
  {
   "cell_type": "code",
   "execution_count": 13,
   "id": "863fdb53",
   "metadata": {
    "execution": {
     "iopub.execute_input": "2022-09-25T23:23:23.638865Z",
     "iopub.status.busy": "2022-09-25T23:23:23.638478Z",
     "iopub.status.idle": "2022-09-25T23:23:23.647799Z",
     "shell.execute_reply": "2022-09-25T23:23:23.646598Z"
    },
    "papermill": {
     "duration": 0.018202,
     "end_time": "2022-09-25T23:23:23.650094",
     "exception": false,
     "start_time": "2022-09-25T23:23:23.631892",
     "status": "completed"
    },
    "tags": []
   },
   "outputs": [
    {
     "data": {
      "text/plain": [
       "Survived      0\n",
       "Pclass        0\n",
       "Sex           0\n",
       "Age         154\n",
       "SibSp         0\n",
       "Parch         0\n",
       "Fare          0\n",
       "Embarked      2\n",
       "dtype: int64"
      ]
     },
     "execution_count": 13,
     "metadata": {},
     "output_type": "execute_result"
    }
   ],
   "source": [
    "train.isnull().sum()"
   ]
  },
  {
   "cell_type": "code",
   "execution_count": 14,
   "id": "ad97a470",
   "metadata": {
    "execution": {
     "iopub.execute_input": "2022-09-25T23:23:23.662271Z",
     "iopub.status.busy": "2022-09-25T23:23:23.661859Z",
     "iopub.status.idle": "2022-09-25T23:23:23.666205Z",
     "shell.execute_reply": "2022-09-25T23:23:23.665191Z"
    },
    "papermill": {
     "duration": 0.012941,
     "end_time": "2022-09-25T23:23:23.668332",
     "exception": false,
     "start_time": "2022-09-25T23:23:23.655391",
     "status": "completed"
    },
    "tags": []
   },
   "outputs": [],
   "source": [
    "# train_dummies = pd.get_dummies(train['Sex'])\n",
    "# train = pd.concat([train,train_dummies],axis=1)\n",
    "# train.drop(columns=['Sex'],inplace=True)\n",
    "# train.head()"
   ]
  }
 ],
 "metadata": {
  "kernelspec": {
   "display_name": "Python 3",
   "language": "python",
   "name": "python3"
  },
  "language_info": {
   "codemirror_mode": {
    "name": "ipython",
    "version": 3
   },
   "file_extension": ".py",
   "mimetype": "text/x-python",
   "name": "python",
   "nbconvert_exporter": "python",
   "pygments_lexer": "ipython3",
   "version": "3.7.12"
  },
  "papermill": {
   "default_parameters": {},
   "duration": 11.081064,
   "end_time": "2022-09-25T23:23:24.395544",
   "environment_variables": {},
   "exception": null,
   "input_path": "__notebook__.ipynb",
   "output_path": "__notebook__.ipynb",
   "parameters": {},
   "start_time": "2022-09-25T23:23:13.314480",
   "version": "2.3.4"
  }
 },
 "nbformat": 4,
 "nbformat_minor": 5
}
