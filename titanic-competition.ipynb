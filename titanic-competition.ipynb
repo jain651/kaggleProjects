{
 "cells": [
  {
   "cell_type": "code",
   "execution_count": 1,
   "id": "406d3260",
   "metadata": {
    "_cell_guid": "b1076dfc-b9ad-4769-8c92-a6c4dae69d19",
    "_uuid": "8f2839f25d086af736a60e9eeb907d3b93b6e0e5",
    "execution": {
     "iopub.execute_input": "2022-10-02T21:09:13.579367Z",
     "iopub.status.busy": "2022-10-02T21:09:13.578478Z",
     "iopub.status.idle": "2022-10-02T21:09:13.602375Z",
     "shell.execute_reply": "2022-10-02T21:09:13.600656Z"
    },
    "papermill": {
     "duration": 0.041716,
     "end_time": "2022-10-02T21:09:13.605195",
     "exception": false,
     "start_time": "2022-10-02T21:09:13.563479",
     "status": "completed"
    },
    "tags": []
   },
   "outputs": [
    {
     "name": "stdout",
     "output_type": "stream",
     "text": [
      "/kaggle/input/titanic/train.csv\n",
      "/kaggle/input/titanic/test.csv\n",
      "/kaggle/input/titanic/gender_submission.csv\n"
     ]
    }
   ],
   "source": [
    "# This Python 3 environment comes with many helpful analytics libraries installed\n",
    "# It is defined by the kaggle/python Docker image: https://github.com/kaggle/docker-python\n",
    "# For example, here's several helpful packages to load\n",
    "\n",
    "import numpy as np # linear algebra\n",
    "import pandas as pd # data processing, CSV file I/O (e.g. pd.read_csv)\n",
    "\n",
    "# Input data files are available in the read-only \"../input/\" directory\n",
    "# For example, running this (by clicking run or pressing Shift+Enter) will list all files under the input directory\n",
    "\n",
    "import os\n",
    "for dirname, _, filenames in os.walk('/kaggle/input'):\n",
    "    for filename in filenames:\n",
    "        print(os.path.join(dirname, filename))\n",
    "\n",
    "# You can write up to 20GB to the current directory (/kaggle/working/) that gets preserved as output when you create a version using \"Save & Run All\" \n",
    "# You can also write temporary files to /kaggle/temp/, but they won't be saved outside of the current session"
   ]
  },
  {
   "cell_type": "code",
   "execution_count": 2,
   "id": "062c75d8",
   "metadata": {
    "execution": {
     "iopub.execute_input": "2022-10-02T21:09:13.625044Z",
     "iopub.status.busy": "2022-10-02T21:09:13.624660Z",
     "iopub.status.idle": "2022-10-02T21:09:14.635042Z",
     "shell.execute_reply": "2022-10-02T21:09:14.633958Z"
    },
    "papermill": {
     "duration": 1.024155,
     "end_time": "2022-10-02T21:09:14.637734",
     "exception": false,
     "start_time": "2022-10-02T21:09:13.613579",
     "status": "completed"
    },
    "tags": []
   },
   "outputs": [],
   "source": [
    "# import libraries\n",
    "import seaborn as sns"
   ]
  },
  {
   "cell_type": "code",
   "execution_count": 3,
   "id": "d03f39dd",
   "metadata": {
    "execution": {
     "iopub.execute_input": "2022-10-02T21:09:14.655162Z",
     "iopub.status.busy": "2022-10-02T21:09:14.654399Z",
     "iopub.status.idle": "2022-10-02T21:09:14.687341Z",
     "shell.execute_reply": "2022-10-02T21:09:14.686383Z"
    },
    "papermill": {
     "duration": 0.044433,
     "end_time": "2022-10-02T21:09:14.689972",
     "exception": false,
     "start_time": "2022-10-02T21:09:14.645539",
     "status": "completed"
    },
    "tags": []
   },
   "outputs": [],
   "source": [
    "gs = pd.read_csv(\"../input/titanic/gender_submission.csv\")\n",
    "train = pd.read_csv(\"../input/titanic/train.csv\")\n",
    "test = pd.read_csv(\"../input/titanic/train.csv\")\n"
   ]
  },
  {
   "cell_type": "code",
   "execution_count": 4,
   "id": "9c427699",
   "metadata": {
    "execution": {
     "iopub.execute_input": "2022-10-02T21:09:14.706760Z",
     "iopub.status.busy": "2022-10-02T21:09:14.706387Z",
     "iopub.status.idle": "2022-10-02T21:09:14.729826Z",
     "shell.execute_reply": "2022-10-02T21:09:14.728635Z"
    },
    "papermill": {
     "duration": 0.034696,
     "end_time": "2022-10-02T21:09:14.732245",
     "exception": false,
     "start_time": "2022-10-02T21:09:14.697549",
     "status": "completed"
    },
    "tags": []
   },
   "outputs": [
    {
     "data": {
      "text/html": [
       "<div>\n",
       "<style scoped>\n",
       "    .dataframe tbody tr th:only-of-type {\n",
       "        vertical-align: middle;\n",
       "    }\n",
       "\n",
       "    .dataframe tbody tr th {\n",
       "        vertical-align: top;\n",
       "    }\n",
       "\n",
       "    .dataframe thead th {\n",
       "        text-align: right;\n",
       "    }\n",
       "</style>\n",
       "<table border=\"1\" class=\"dataframe\">\n",
       "  <thead>\n",
       "    <tr style=\"text-align: right;\">\n",
       "      <th></th>\n",
       "      <th>PassengerId</th>\n",
       "      <th>Survived</th>\n",
       "      <th>Pclass</th>\n",
       "      <th>Name</th>\n",
       "      <th>Sex</th>\n",
       "      <th>Age</th>\n",
       "      <th>SibSp</th>\n",
       "      <th>Parch</th>\n",
       "      <th>Ticket</th>\n",
       "      <th>Fare</th>\n",
       "      <th>Cabin</th>\n",
       "      <th>Embarked</th>\n",
       "    </tr>\n",
       "  </thead>\n",
       "  <tbody>\n",
       "    <tr>\n",
       "      <th>0</th>\n",
       "      <td>1</td>\n",
       "      <td>0</td>\n",
       "      <td>3</td>\n",
       "      <td>Braund, Mr. Owen Harris</td>\n",
       "      <td>male</td>\n",
       "      <td>22.0</td>\n",
       "      <td>1</td>\n",
       "      <td>0</td>\n",
       "      <td>A/5 21171</td>\n",
       "      <td>7.2500</td>\n",
       "      <td>NaN</td>\n",
       "      <td>S</td>\n",
       "    </tr>\n",
       "    <tr>\n",
       "      <th>1</th>\n",
       "      <td>2</td>\n",
       "      <td>1</td>\n",
       "      <td>1</td>\n",
       "      <td>Cumings, Mrs. John Bradley (Florence Briggs Th...</td>\n",
       "      <td>female</td>\n",
       "      <td>38.0</td>\n",
       "      <td>1</td>\n",
       "      <td>0</td>\n",
       "      <td>PC 17599</td>\n",
       "      <td>71.2833</td>\n",
       "      <td>C85</td>\n",
       "      <td>C</td>\n",
       "    </tr>\n",
       "    <tr>\n",
       "      <th>2</th>\n",
       "      <td>3</td>\n",
       "      <td>1</td>\n",
       "      <td>3</td>\n",
       "      <td>Heikkinen, Miss. Laina</td>\n",
       "      <td>female</td>\n",
       "      <td>26.0</td>\n",
       "      <td>0</td>\n",
       "      <td>0</td>\n",
       "      <td>STON/O2. 3101282</td>\n",
       "      <td>7.9250</td>\n",
       "      <td>NaN</td>\n",
       "      <td>S</td>\n",
       "    </tr>\n",
       "    <tr>\n",
       "      <th>3</th>\n",
       "      <td>4</td>\n",
       "      <td>1</td>\n",
       "      <td>1</td>\n",
       "      <td>Futrelle, Mrs. Jacques Heath (Lily May Peel)</td>\n",
       "      <td>female</td>\n",
       "      <td>35.0</td>\n",
       "      <td>1</td>\n",
       "      <td>0</td>\n",
       "      <td>113803</td>\n",
       "      <td>53.1000</td>\n",
       "      <td>C123</td>\n",
       "      <td>S</td>\n",
       "    </tr>\n",
       "    <tr>\n",
       "      <th>4</th>\n",
       "      <td>5</td>\n",
       "      <td>0</td>\n",
       "      <td>3</td>\n",
       "      <td>Allen, Mr. William Henry</td>\n",
       "      <td>male</td>\n",
       "      <td>35.0</td>\n",
       "      <td>0</td>\n",
       "      <td>0</td>\n",
       "      <td>373450</td>\n",
       "      <td>8.0500</td>\n",
       "      <td>NaN</td>\n",
       "      <td>S</td>\n",
       "    </tr>\n",
       "  </tbody>\n",
       "</table>\n",
       "</div>"
      ],
      "text/plain": [
       "   PassengerId  Survived  Pclass  \\\n",
       "0            1         0       3   \n",
       "1            2         1       1   \n",
       "2            3         1       3   \n",
       "3            4         1       1   \n",
       "4            5         0       3   \n",
       "\n",
       "                                                Name     Sex   Age  SibSp  \\\n",
       "0                            Braund, Mr. Owen Harris    male  22.0      1   \n",
       "1  Cumings, Mrs. John Bradley (Florence Briggs Th...  female  38.0      1   \n",
       "2                             Heikkinen, Miss. Laina  female  26.0      0   \n",
       "3       Futrelle, Mrs. Jacques Heath (Lily May Peel)  female  35.0      1   \n",
       "4                           Allen, Mr. William Henry    male  35.0      0   \n",
       "\n",
       "   Parch            Ticket     Fare Cabin Embarked  \n",
       "0      0         A/5 21171   7.2500   NaN        S  \n",
       "1      0          PC 17599  71.2833   C85        C  \n",
       "2      0  STON/O2. 3101282   7.9250   NaN        S  \n",
       "3      0            113803  53.1000  C123        S  \n",
       "4      0            373450   8.0500   NaN        S  "
      ]
     },
     "execution_count": 4,
     "metadata": {},
     "output_type": "execute_result"
    }
   ],
   "source": [
    "train.head(5)"
   ]
  },
  {
   "cell_type": "code",
   "execution_count": 5,
   "id": "f29d2a3f",
   "metadata": {
    "execution": {
     "iopub.execute_input": "2022-10-02T21:09:14.750109Z",
     "iopub.status.busy": "2022-10-02T21:09:14.749721Z",
     "iopub.status.idle": "2022-10-02T21:09:14.756942Z",
     "shell.execute_reply": "2022-10-02T21:09:14.755747Z"
    },
    "papermill": {
     "duration": 0.019041,
     "end_time": "2022-10-02T21:09:14.759277",
     "exception": false,
     "start_time": "2022-10-02T21:09:14.740236",
     "status": "completed"
    },
    "tags": []
   },
   "outputs": [
    {
     "data": {
      "text/plain": [
       "(891, 12)"
      ]
     },
     "execution_count": 5,
     "metadata": {},
     "output_type": "execute_result"
    }
   ],
   "source": [
    "train.shape"
   ]
  },
  {
   "cell_type": "code",
   "execution_count": 6,
   "id": "fc0023d8",
   "metadata": {
    "execution": {
     "iopub.execute_input": "2022-10-02T21:09:14.778735Z",
     "iopub.status.busy": "2022-10-02T21:09:14.778356Z",
     "iopub.status.idle": "2022-10-02T21:09:14.790018Z",
     "shell.execute_reply": "2022-10-02T21:09:14.788733Z"
    },
    "papermill": {
     "duration": 0.023102,
     "end_time": "2022-10-02T21:09:14.792320",
     "exception": false,
     "start_time": "2022-10-02T21:09:14.769218",
     "status": "completed"
    },
    "tags": []
   },
   "outputs": [],
   "source": [
    "train.drop(columns=['PassengerId','Name','Ticket'],inplace=True)"
   ]
  },
  {
   "cell_type": "code",
   "execution_count": 7,
   "id": "435038d5",
   "metadata": {
    "execution": {
     "iopub.execute_input": "2022-10-02T21:09:14.809950Z",
     "iopub.status.busy": "2022-10-02T21:09:14.809550Z",
     "iopub.status.idle": "2022-10-02T21:09:14.819799Z",
     "shell.execute_reply": "2022-10-02T21:09:14.818810Z"
    },
    "papermill": {
     "duration": 0.02168,
     "end_time": "2022-10-02T21:09:14.822015",
     "exception": false,
     "start_time": "2022-10-02T21:09:14.800335",
     "status": "completed"
    },
    "tags": []
   },
   "outputs": [
    {
     "data": {
      "text/plain": [
       "Survived      0\n",
       "Pclass        0\n",
       "Sex           0\n",
       "Age         177\n",
       "SibSp         0\n",
       "Parch         0\n",
       "Fare          0\n",
       "Cabin       687\n",
       "Embarked      2\n",
       "dtype: int64"
      ]
     },
     "execution_count": 7,
     "metadata": {},
     "output_type": "execute_result"
    }
   ],
   "source": [
    "train.isnull().sum()"
   ]
  },
  {
   "cell_type": "code",
   "execution_count": 8,
   "id": "d7842591",
   "metadata": {
    "execution": {
     "iopub.execute_input": "2022-10-02T21:09:14.840043Z",
     "iopub.status.busy": "2022-10-02T21:09:14.839597Z",
     "iopub.status.idle": "2022-10-02T21:09:14.848160Z",
     "shell.execute_reply": "2022-10-02T21:09:14.847009Z"
    },
    "papermill": {
     "duration": 0.02056,
     "end_time": "2022-10-02T21:09:14.850780",
     "exception": false,
     "start_time": "2022-10-02T21:09:14.830220",
     "status": "completed"
    },
    "tags": []
   },
   "outputs": [],
   "source": [
    "# dropping cabin as most of the values are missing\n",
    "train.drop(columns='Cabin',inplace=True)"
   ]
  },
  {
   "cell_type": "code",
   "execution_count": 9,
   "id": "696c7cde",
   "metadata": {
    "execution": {
     "iopub.execute_input": "2022-10-02T21:09:14.869066Z",
     "iopub.status.busy": "2022-10-02T21:09:14.868293Z",
     "iopub.status.idle": "2022-10-02T21:09:14.888385Z",
     "shell.execute_reply": "2022-10-02T21:09:14.887226Z"
    },
    "papermill": {
     "duration": 0.031774,
     "end_time": "2022-10-02T21:09:14.890682",
     "exception": false,
     "start_time": "2022-10-02T21:09:14.858908",
     "status": "completed"
    },
    "tags": []
   },
   "outputs": [
    {
     "data": {
      "text/html": [
       "<div>\n",
       "<style scoped>\n",
       "    .dataframe tbody tr th:only-of-type {\n",
       "        vertical-align: middle;\n",
       "    }\n",
       "\n",
       "    .dataframe tbody tr th {\n",
       "        vertical-align: top;\n",
       "    }\n",
       "\n",
       "    .dataframe thead th {\n",
       "        text-align: right;\n",
       "    }\n",
       "</style>\n",
       "<table border=\"1\" class=\"dataframe\">\n",
       "  <thead>\n",
       "    <tr style=\"text-align: right;\">\n",
       "      <th></th>\n",
       "      <th>Survived</th>\n",
       "      <th>Age</th>\n",
       "      <th>SibSp</th>\n",
       "      <th>Parch</th>\n",
       "      <th>Fare</th>\n",
       "    </tr>\n",
       "    <tr>\n",
       "      <th>Pclass</th>\n",
       "      <th></th>\n",
       "      <th></th>\n",
       "      <th></th>\n",
       "      <th></th>\n",
       "      <th></th>\n",
       "    </tr>\n",
       "  </thead>\n",
       "  <tbody>\n",
       "    <tr>\n",
       "      <th>1</th>\n",
       "      <td>0.466667</td>\n",
       "      <td>NaN</td>\n",
       "      <td>0.200000</td>\n",
       "      <td>0.033333</td>\n",
       "      <td>60.551940</td>\n",
       "    </tr>\n",
       "    <tr>\n",
       "      <th>2</th>\n",
       "      <td>0.363636</td>\n",
       "      <td>NaN</td>\n",
       "      <td>0.000000</td>\n",
       "      <td>0.000000</td>\n",
       "      <td>7.932955</td>\n",
       "    </tr>\n",
       "    <tr>\n",
       "      <th>3</th>\n",
       "      <td>0.250000</td>\n",
       "      <td>NaN</td>\n",
       "      <td>0.691176</td>\n",
       "      <td>0.227941</td>\n",
       "      <td>14.840041</td>\n",
       "    </tr>\n",
       "  </tbody>\n",
       "</table>\n",
       "</div>"
      ],
      "text/plain": [
       "        Survived  Age     SibSp     Parch       Fare\n",
       "Pclass                                              \n",
       "1       0.466667  NaN  0.200000  0.033333  60.551940\n",
       "2       0.363636  NaN  0.000000  0.000000   7.932955\n",
       "3       0.250000  NaN  0.691176  0.227941  14.840041"
      ]
     },
     "execution_count": 9,
     "metadata": {},
     "output_type": "execute_result"
    }
   ],
   "source": [
    "train[train['Age'].isnull()].groupby(by='Pclass').mean()"
   ]
  },
  {
   "cell_type": "code",
   "execution_count": 10,
   "id": "19522c4a",
   "metadata": {
    "execution": {
     "iopub.execute_input": "2022-10-02T21:09:14.908744Z",
     "iopub.status.busy": "2022-10-02T21:09:14.908353Z",
     "iopub.status.idle": "2022-10-02T21:09:14.927169Z",
     "shell.execute_reply": "2022-10-02T21:09:14.925908Z"
    },
    "papermill": {
     "duration": 0.030587,
     "end_time": "2022-10-02T21:09:14.929429",
     "exception": false,
     "start_time": "2022-10-02T21:09:14.898842",
     "status": "completed"
    },
    "tags": []
   },
   "outputs": [
    {
     "data": {
      "text/html": [
       "<div>\n",
       "<style scoped>\n",
       "    .dataframe tbody tr th:only-of-type {\n",
       "        vertical-align: middle;\n",
       "    }\n",
       "\n",
       "    .dataframe tbody tr th {\n",
       "        vertical-align: top;\n",
       "    }\n",
       "\n",
       "    .dataframe thead th {\n",
       "        text-align: right;\n",
       "    }\n",
       "</style>\n",
       "<table border=\"1\" class=\"dataframe\">\n",
       "  <thead>\n",
       "    <tr style=\"text-align: right;\">\n",
       "      <th></th>\n",
       "      <th></th>\n",
       "      <th></th>\n",
       "      <th>Age</th>\n",
       "    </tr>\n",
       "    <tr>\n",
       "      <th>SibSp</th>\n",
       "      <th>Pclass</th>\n",
       "      <th>Parch</th>\n",
       "      <th></th>\n",
       "    </tr>\n",
       "  </thead>\n",
       "  <tbody>\n",
       "    <tr>\n",
       "      <th>3</th>\n",
       "      <th>3</th>\n",
       "      <th>2</th>\n",
       "      <td>6.250000</td>\n",
       "    </tr>\n",
       "    <tr>\n",
       "      <th rowspan=\"2\" valign=\"top\">4</th>\n",
       "      <th rowspan=\"2\" valign=\"top\">3</th>\n",
       "      <th>1</th>\n",
       "      <td>6.777778</td>\n",
       "    </tr>\n",
       "    <tr>\n",
       "      <th>2</th>\n",
       "      <td>7.333333</td>\n",
       "    </tr>\n",
       "    <tr>\n",
       "      <th>5</th>\n",
       "      <th>3</th>\n",
       "      <th>2</th>\n",
       "      <td>10.200000</td>\n",
       "    </tr>\n",
       "    <tr>\n",
       "      <th>8</th>\n",
       "      <th>3</th>\n",
       "      <th>2</th>\n",
       "      <td>NaN</td>\n",
       "    </tr>\n",
       "  </tbody>\n",
       "</table>\n",
       "</div>"
      ],
      "text/plain": [
       "                          Age\n",
       "SibSp Pclass Parch           \n",
       "3     3      2       6.250000\n",
       "4     3      1       6.777778\n",
       "             2       7.333333\n",
       "5     3      2      10.200000\n",
       "8     3      2            NaN"
      ]
     },
     "execution_count": 10,
     "metadata": {},
     "output_type": "execute_result"
    }
   ],
   "source": [
    "mean_value = train.groupby(by=['SibSp','Pclass','Parch'])[['Age']].mean()\n",
    "mean_value.tail()"
   ]
  },
  {
   "cell_type": "code",
   "execution_count": 11,
   "id": "0b5a1b3f",
   "metadata": {
    "execution": {
     "iopub.execute_input": "2022-10-02T21:09:14.947827Z",
     "iopub.status.busy": "2022-10-02T21:09:14.947407Z",
     "iopub.status.idle": "2022-10-02T21:09:14.959867Z",
     "shell.execute_reply": "2022-10-02T21:09:14.958880Z"
    },
    "papermill": {
     "duration": 0.024077,
     "end_time": "2022-10-02T21:09:14.961980",
     "exception": false,
     "start_time": "2022-10-02T21:09:14.937903",
     "status": "completed"
    },
    "tags": []
   },
   "outputs": [
    {
     "data": {
      "text/plain": [
       "Age    41.005814\n",
       "Name: (0, 1, 0), dtype: float64"
      ]
     },
     "execution_count": 11,
     "metadata": {},
     "output_type": "execute_result"
    }
   ],
   "source": [
    "mean_value.loc[(0,1,0),]"
   ]
  },
  {
   "cell_type": "code",
   "execution_count": 12,
   "id": "c65146c7",
   "metadata": {
    "execution": {
     "iopub.execute_input": "2022-10-02T21:09:14.980876Z",
     "iopub.status.busy": "2022-10-02T21:09:14.980472Z",
     "iopub.status.idle": "2022-10-02T21:09:14.996775Z",
     "shell.execute_reply": "2022-10-02T21:09:14.995702Z"
    },
    "papermill": {
     "duration": 0.028535,
     "end_time": "2022-10-02T21:09:14.999065",
     "exception": false,
     "start_time": "2022-10-02T21:09:14.970530",
     "status": "completed"
    },
    "tags": []
   },
   "outputs": [
    {
     "data": {
      "text/html": [
       "<div>\n",
       "<style scoped>\n",
       "    .dataframe tbody tr th:only-of-type {\n",
       "        vertical-align: middle;\n",
       "    }\n",
       "\n",
       "    .dataframe tbody tr th {\n",
       "        vertical-align: top;\n",
       "    }\n",
       "\n",
       "    .dataframe thead th {\n",
       "        text-align: right;\n",
       "    }\n",
       "</style>\n",
       "<table border=\"1\" class=\"dataframe\">\n",
       "  <thead>\n",
       "    <tr style=\"text-align: right;\">\n",
       "      <th></th>\n",
       "      <th></th>\n",
       "      <th></th>\n",
       "      <th>Age</th>\n",
       "    </tr>\n",
       "    <tr>\n",
       "      <th>SibSp</th>\n",
       "      <th>Pclass</th>\n",
       "      <th>Parch</th>\n",
       "      <th></th>\n",
       "    </tr>\n",
       "  </thead>\n",
       "  <tbody>\n",
       "    <tr>\n",
       "      <th rowspan=\"2\" valign=\"top\">1</th>\n",
       "      <th rowspan=\"2\" valign=\"top\">3</th>\n",
       "      <th>1</th>\n",
       "      <td>NaN</td>\n",
       "    </tr>\n",
       "    <tr>\n",
       "      <th>2</th>\n",
       "      <td>NaN</td>\n",
       "    </tr>\n",
       "    <tr>\n",
       "      <th>2</th>\n",
       "      <th>3</th>\n",
       "      <th>0</th>\n",
       "      <td>NaN</td>\n",
       "    </tr>\n",
       "    <tr>\n",
       "      <th>3</th>\n",
       "      <th>3</th>\n",
       "      <th>1</th>\n",
       "      <td>NaN</td>\n",
       "    </tr>\n",
       "    <tr>\n",
       "      <th>8</th>\n",
       "      <th>3</th>\n",
       "      <th>2</th>\n",
       "      <td>NaN</td>\n",
       "    </tr>\n",
       "  </tbody>\n",
       "</table>\n",
       "</div>"
      ],
      "text/plain": [
       "                    Age\n",
       "SibSp Pclass Parch     \n",
       "1     3      1      NaN\n",
       "             2      NaN\n",
       "2     3      0      NaN\n",
       "3     3      1      NaN\n",
       "8     3      2      NaN"
      ]
     },
     "execution_count": 12,
     "metadata": {},
     "output_type": "execute_result"
    }
   ],
   "source": [
    "train_nan = train[train['Age'].isnull()].groupby(by=['SibSp','Pclass','Parch'])[['Age']].mean()\n",
    "train_nan.tail()"
   ]
  },
  {
   "cell_type": "code",
   "execution_count": 13,
   "id": "d61c9971",
   "metadata": {
    "execution": {
     "iopub.execute_input": "2022-10-02T21:09:15.018684Z",
     "iopub.status.busy": "2022-10-02T21:09:15.018259Z",
     "iopub.status.idle": "2022-10-02T21:09:15.121269Z",
     "shell.execute_reply": "2022-10-02T21:09:15.120335Z"
    },
    "papermill": {
     "duration": 0.116336,
     "end_time": "2022-10-02T21:09:15.124097",
     "exception": false,
     "start_time": "2022-10-02T21:09:15.007761",
     "status": "completed"
    },
    "tags": []
   },
   "outputs": [],
   "source": [
    "for row_index, group in train_nan.iterrows():\n",
    "    for i, record in train[train['Age'].isnull()].iterrows():\n",
    "        if(record['SibSp']==row_index[0] and record['Pclass']==row_index[1] and record['Parch']==row_index[2]):\n",
    "            train.at[i,'Age'] = mean_value.loc[row_index,]"
   ]
  },
  {
   "cell_type": "code",
   "execution_count": 14,
   "id": "c2388a39",
   "metadata": {
    "execution": {
     "iopub.execute_input": "2022-10-02T21:09:15.143377Z",
     "iopub.status.busy": "2022-10-02T21:09:15.142977Z",
     "iopub.status.idle": "2022-10-02T21:09:15.151991Z",
     "shell.execute_reply": "2022-10-02T21:09:15.150912Z"
    },
    "papermill": {
     "duration": 0.021544,
     "end_time": "2022-10-02T21:09:15.154513",
     "exception": false,
     "start_time": "2022-10-02T21:09:15.132969",
     "status": "completed"
    },
    "tags": []
   },
   "outputs": [
    {
     "data": {
      "text/plain": [
       "Survived    0\n",
       "Pclass      0\n",
       "Sex         0\n",
       "Age         7\n",
       "SibSp       0\n",
       "Parch       0\n",
       "Fare        0\n",
       "Embarked    2\n",
       "dtype: int64"
      ]
     },
     "execution_count": 14,
     "metadata": {},
     "output_type": "execute_result"
    }
   ],
   "source": [
    "train.isnull().sum()"
   ]
  },
  {
   "cell_type": "code",
   "execution_count": 15,
   "id": "e6358ea0",
   "metadata": {
    "execution": {
     "iopub.execute_input": "2022-10-02T21:09:15.174068Z",
     "iopub.status.busy": "2022-10-02T21:09:15.173701Z",
     "iopub.status.idle": "2022-10-02T21:09:15.188500Z",
     "shell.execute_reply": "2022-10-02T21:09:15.187395Z"
    },
    "papermill": {
     "duration": 0.027798,
     "end_time": "2022-10-02T21:09:15.191124",
     "exception": false,
     "start_time": "2022-10-02T21:09:15.163326",
     "status": "completed"
    },
    "tags": []
   },
   "outputs": [
    {
     "data": {
      "text/html": [
       "<div>\n",
       "<style scoped>\n",
       "    .dataframe tbody tr th:only-of-type {\n",
       "        vertical-align: middle;\n",
       "    }\n",
       "\n",
       "    .dataframe tbody tr th {\n",
       "        vertical-align: top;\n",
       "    }\n",
       "\n",
       "    .dataframe thead th {\n",
       "        text-align: right;\n",
       "    }\n",
       "</style>\n",
       "<table border=\"1\" class=\"dataframe\">\n",
       "  <thead>\n",
       "    <tr style=\"text-align: right;\">\n",
       "      <th></th>\n",
       "      <th></th>\n",
       "      <th></th>\n",
       "      <th>Age</th>\n",
       "    </tr>\n",
       "    <tr>\n",
       "      <th>SibSp</th>\n",
       "      <th>Pclass</th>\n",
       "      <th>Parch</th>\n",
       "      <th></th>\n",
       "    </tr>\n",
       "  </thead>\n",
       "  <tbody>\n",
       "    <tr>\n",
       "      <th>8</th>\n",
       "      <th>3</th>\n",
       "      <th>2</th>\n",
       "      <td>NaN</td>\n",
       "    </tr>\n",
       "  </tbody>\n",
       "</table>\n",
       "</div>"
      ],
      "text/plain": [
       "                    Age\n",
       "SibSp Pclass Parch     \n",
       "8     3      2      NaN"
      ]
     },
     "execution_count": 15,
     "metadata": {},
     "output_type": "execute_result"
    }
   ],
   "source": [
    "train_nan = train[train['Age'].isnull()].groupby(by=['SibSp','Pclass','Parch'])[['Age']].mean()\n",
    "train_nan.head()"
   ]
  },
  {
   "cell_type": "code",
   "execution_count": 16,
   "id": "bced3c65",
   "metadata": {
    "execution": {
     "iopub.execute_input": "2022-10-02T21:09:15.211640Z",
     "iopub.status.busy": "2022-10-02T21:09:15.210707Z",
     "iopub.status.idle": "2022-10-02T21:09:15.221003Z",
     "shell.execute_reply": "2022-10-02T21:09:15.220190Z"
    },
    "papermill": {
     "duration": 0.022905,
     "end_time": "2022-10-02T21:09:15.223293",
     "exception": false,
     "start_time": "2022-10-02T21:09:15.200388",
     "status": "completed"
    },
    "tags": []
   },
   "outputs": [],
   "source": [
    "for row_index, group in train_nan.iterrows():\n",
    "    for i, record in train[train['Age'].isnull()].iterrows():\n",
    "        if(record['Pclass']==row_index[1] and record['Parch']==row_index[2]):\n",
    "            train.at[i,'Age'] = mean_value.loc[row_index,]"
   ]
  },
  {
   "cell_type": "code",
   "execution_count": 17,
   "id": "8e8e8a23",
   "metadata": {
    "execution": {
     "iopub.execute_input": "2022-10-02T21:09:15.243437Z",
     "iopub.status.busy": "2022-10-02T21:09:15.242567Z",
     "iopub.status.idle": "2022-10-02T21:09:15.251166Z",
     "shell.execute_reply": "2022-10-02T21:09:15.250401Z"
    },
    "papermill": {
     "duration": 0.020845,
     "end_time": "2022-10-02T21:09:15.253248",
     "exception": false,
     "start_time": "2022-10-02T21:09:15.232403",
     "status": "completed"
    },
    "tags": []
   },
   "outputs": [
    {
     "data": {
      "text/plain": [
       "Survived    0\n",
       "Pclass      0\n",
       "Sex         0\n",
       "Age         7\n",
       "SibSp       0\n",
       "Parch       0\n",
       "Fare        0\n",
       "Embarked    2\n",
       "dtype: int64"
      ]
     },
     "execution_count": 17,
     "metadata": {},
     "output_type": "execute_result"
    }
   ],
   "source": [
    "train.isnull().sum()"
   ]
  },
  {
   "cell_type": "code",
   "execution_count": 18,
   "id": "6db5cffd",
   "metadata": {
    "execution": {
     "iopub.execute_input": "2022-10-02T21:09:15.273651Z",
     "iopub.status.busy": "2022-10-02T21:09:15.272635Z",
     "iopub.status.idle": "2022-10-02T21:09:15.284814Z",
     "shell.execute_reply": "2022-10-02T21:09:15.283629Z"
    },
    "papermill": {
     "duration": 0.025027,
     "end_time": "2022-10-02T21:09:15.287374",
     "exception": false,
     "start_time": "2022-10-02T21:09:15.262347",
     "status": "completed"
    },
    "tags": []
   },
   "outputs": [
    {
     "data": {
      "text/plain": [
       "Survived    0\n",
       "Pclass      0\n",
       "Sex         0\n",
       "Age         0\n",
       "SibSp       0\n",
       "Parch       0\n",
       "Fare        0\n",
       "Embarked    0\n",
       "dtype: int64"
      ]
     },
     "execution_count": 18,
     "metadata": {},
     "output_type": "execute_result"
    }
   ],
   "source": [
    "train.dropna(inplace=True)\n",
    "train.isnull().sum()"
   ]
  },
  {
   "cell_type": "code",
   "execution_count": 19,
   "id": "cff56a1a",
   "metadata": {
    "execution": {
     "iopub.execute_input": "2022-10-02T21:09:15.309987Z",
     "iopub.status.busy": "2022-10-02T21:09:15.309061Z",
     "iopub.status.idle": "2022-10-02T21:09:15.537378Z",
     "shell.execute_reply": "2022-10-02T21:09:15.536293Z"
    },
    "papermill": {
     "duration": 0.242696,
     "end_time": "2022-10-02T21:09:15.539934",
     "exception": false,
     "start_time": "2022-10-02T21:09:15.297238",
     "status": "completed"
    },
    "tags": []
   },
   "outputs": [
    {
     "data": {
      "text/plain": [
       "(array([732.,  97.,  31.,   2.,  11.,   6.,   0.,   0.,   0.,   3.]),\n",
       " array([  0.     ,  51.23292, 102.46584, 153.69876, 204.93168, 256.1646 ,\n",
       "        307.39752, 358.63044, 409.86336, 461.09628, 512.3292 ]),\n",
       " <BarContainer object of 10 artists>)"
      ]
     },
     "execution_count": 19,
     "metadata": {},
     "output_type": "execute_result"
    },
    {
     "data": {
      "image/png": "[encoded data removed]",
      "text/plain": [
       "<Figure size 432x288 with 1 Axes>"
      ]
     },
     "metadata": {
      "needs_background": "light"
     },
     "output_type": "display_data"
    }
   ],
   "source": [
    "from matplotlib import pyplot as plt\n",
    "plt.hist(train['Fare'])\n",
    "# most of the passanger have paid below 100 units of fare"
   ]
  },
  {
   "cell_type": "code",
   "execution_count": 20,
   "id": "f4490744",
   "metadata": {
    "execution": {
     "iopub.execute_input": "2022-10-02T21:09:15.561172Z",
     "iopub.status.busy": "2022-10-02T21:09:15.560737Z",
     "iopub.status.idle": "2022-10-02T21:09:15.748199Z",
     "shell.execute_reply": "2022-10-02T21:09:15.747060Z"
    },
    "papermill": {
     "duration": 0.20088,
     "end_time": "2022-10-02T21:09:15.750918",
     "exception": false,
     "start_time": "2022-10-02T21:09:15.550038",
     "status": "completed"
    },
    "tags": []
   },
   "outputs": [
    {
     "data": {
      "text/plain": [
       "<matplotlib.collections.PathCollection at 0x7fc1ac9c6a90>"
      ]
     },
     "execution_count": 20,
     "metadata": {},
     "output_type": "execute_result"
    },
    {
     "data": {
      "image/png": "[encoded data removed]",
      "text/plain": [
       "<Figure size 432x288 with 1 Axes>"
      ]
     },
     "metadata": {
      "needs_background": "light"
     },
     "output_type": "display_data"
    }
   ],
   "source": [
    "plt.scatter(train['Pclass'],train['Fare'])"
   ]
  },
  {
   "cell_type": "code",
   "execution_count": 21,
   "id": "428e3b62",
   "metadata": {
    "execution": {
     "iopub.execute_input": "2022-10-02T21:09:15.772620Z",
     "iopub.status.busy": "2022-10-02T21:09:15.771839Z",
     "iopub.status.idle": "2022-10-02T21:09:15.795836Z",
     "shell.execute_reply": "2022-10-02T21:09:15.794966Z"
    },
    "papermill": {
     "duration": 0.037358,
     "end_time": "2022-10-02T21:09:15.798203",
     "exception": false,
     "start_time": "2022-10-02T21:09:15.760845",
     "status": "completed"
    },
    "tags": []
   },
   "outputs": [
    {
     "data": {
      "text/html": [
       "<div>\n",
       "<style scoped>\n",
       "    .dataframe tbody tr th:only-of-type {\n",
       "        vertical-align: middle;\n",
       "    }\n",
       "\n",
       "    .dataframe tbody tr th {\n",
       "        vertical-align: top;\n",
       "    }\n",
       "\n",
       "    .dataframe thead th {\n",
       "        text-align: right;\n",
       "    }\n",
       "</style>\n",
       "<table border=\"1\" class=\"dataframe\">\n",
       "  <thead>\n",
       "    <tr style=\"text-align: right;\">\n",
       "      <th></th>\n",
       "      <th>Survived</th>\n",
       "      <th>Sex</th>\n",
       "      <th>Age</th>\n",
       "      <th>SibSp</th>\n",
       "      <th>Parch</th>\n",
       "      <th>Fare</th>\n",
       "      <th>Embarked</th>\n",
       "    </tr>\n",
       "    <tr>\n",
       "      <th>Pclass</th>\n",
       "      <th></th>\n",
       "      <th></th>\n",
       "      <th></th>\n",
       "      <th></th>\n",
       "      <th></th>\n",
       "      <th></th>\n",
       "      <th></th>\n",
       "    </tr>\n",
       "  </thead>\n",
       "  <tbody>\n",
       "    <tr>\n",
       "      <th>1</th>\n",
       "      <td>1</td>\n",
       "      <td>male</td>\n",
       "      <td>80.0</td>\n",
       "      <td>3</td>\n",
       "      <td>4</td>\n",
       "      <td>512.3292</td>\n",
       "      <td>S</td>\n",
       "    </tr>\n",
       "    <tr>\n",
       "      <th>2</th>\n",
       "      <td>1</td>\n",
       "      <td>male</td>\n",
       "      <td>70.0</td>\n",
       "      <td>3</td>\n",
       "      <td>3</td>\n",
       "      <td>73.5000</td>\n",
       "      <td>S</td>\n",
       "    </tr>\n",
       "    <tr>\n",
       "      <th>3</th>\n",
       "      <td>1</td>\n",
       "      <td>male</td>\n",
       "      <td>74.0</td>\n",
       "      <td>5</td>\n",
       "      <td>6</td>\n",
       "      <td>56.4958</td>\n",
       "      <td>S</td>\n",
       "    </tr>\n",
       "  </tbody>\n",
       "</table>\n",
       "</div>"
      ],
      "text/plain": [
       "        Survived   Sex   Age  SibSp  Parch      Fare Embarked\n",
       "Pclass                                                       \n",
       "1              1  male  80.0      3      4  512.3292        S\n",
       "2              1  male  70.0      3      3   73.5000        S\n",
       "3              1  male  74.0      5      6   56.4958        S"
      ]
     },
     "execution_count": 21,
     "metadata": {},
     "output_type": "execute_result"
    }
   ],
   "source": [
    "train.groupby(by=['Pclass']).max()\n",
    "# passanger with low fare can any of the three class, but the passange with fare > 73 units, belongs to first class"
   ]
  },
  {
   "cell_type": "code",
   "execution_count": 22,
   "id": "93c8ada9",
   "metadata": {
    "execution": {
     "iopub.execute_input": "2022-10-02T21:09:15.820815Z",
     "iopub.status.busy": "2022-10-02T21:09:15.819758Z",
     "iopub.status.idle": "2022-10-02T21:09:15.848614Z",
     "shell.execute_reply": "2022-10-02T21:09:15.847601Z"
    },
    "papermill": {
     "duration": 0.042853,
     "end_time": "2022-10-02T21:09:15.851225",
     "exception": false,
     "start_time": "2022-10-02T21:09:15.808372",
     "status": "completed"
    },
    "tags": []
   },
   "outputs": [],
   "source": [
    "# train[train['Fare']>73].head()\n",
    "#lets divide the fare into binary variable: 1 for > 73 units and 0 below it.\n",
    "for i in train.index:\n",
    "    if train.loc[i,'Fare'] > 73:       \n",
    "        train.at[i,'FareGroup'] = 'low'\n",
    "    else:\n",
    "        train.at[i,'FareGroup'] = 'high' "
   ]
  },
  {
   "cell_type": "code",
   "execution_count": 23,
   "id": "f2e9108f",
   "metadata": {
    "execution": {
     "iopub.execute_input": "2022-10-02T21:09:15.873129Z",
     "iopub.status.busy": "2022-10-02T21:09:15.872375Z",
     "iopub.status.idle": "2022-10-02T21:09:15.889088Z",
     "shell.execute_reply": "2022-10-02T21:09:15.887720Z"
    },
    "papermill": {
     "duration": 0.030379,
     "end_time": "2022-10-02T21:09:15.891675",
     "exception": false,
     "start_time": "2022-10-02T21:09:15.861296",
     "status": "completed"
    },
    "tags": []
   },
   "outputs": [
    {
     "data": {
      "text/html": [
       "<div>\n",
       "<style scoped>\n",
       "    .dataframe tbody tr th:only-of-type {\n",
       "        vertical-align: middle;\n",
       "    }\n",
       "\n",
       "    .dataframe tbody tr th {\n",
       "        vertical-align: top;\n",
       "    }\n",
       "\n",
       "    .dataframe thead th {\n",
       "        text-align: right;\n",
       "    }\n",
       "</style>\n",
       "<table border=\"1\" class=\"dataframe\">\n",
       "  <thead>\n",
       "    <tr style=\"text-align: right;\">\n",
       "      <th></th>\n",
       "      <th>Survived</th>\n",
       "      <th>Pclass</th>\n",
       "      <th>Age</th>\n",
       "      <th>SibSp</th>\n",
       "      <th>Parch</th>\n",
       "      <th>Fare</th>\n",
       "    </tr>\n",
       "    <tr>\n",
       "      <th>FareGroup</th>\n",
       "      <th></th>\n",
       "      <th></th>\n",
       "      <th></th>\n",
       "      <th></th>\n",
       "      <th></th>\n",
       "      <th></th>\n",
       "    </tr>\n",
       "  </thead>\n",
       "  <tbody>\n",
       "    <tr>\n",
       "      <th>high</th>\n",
       "      <td>0.342711</td>\n",
       "      <td>2.466752</td>\n",
       "      <td>28.988152</td>\n",
       "      <td>0.438619</td>\n",
       "      <td>0.341432</td>\n",
       "      <td>18.282869</td>\n",
       "    </tr>\n",
       "    <tr>\n",
       "      <th>low</th>\n",
       "      <td>0.720000</td>\n",
       "      <td>1.050000</td>\n",
       "      <td>34.307433</td>\n",
       "      <td>0.670000</td>\n",
       "      <td>0.590000</td>\n",
       "      <td>137.498957</td>\n",
       "    </tr>\n",
       "  </tbody>\n",
       "</table>\n",
       "</div>"
      ],
      "text/plain": [
       "           Survived    Pclass        Age     SibSp     Parch        Fare\n",
       "FareGroup                                                               \n",
       "high       0.342711  2.466752  28.988152  0.438619  0.341432   18.282869\n",
       "low        0.720000  1.050000  34.307433  0.670000  0.590000  137.498957"
      ]
     },
     "execution_count": 23,
     "metadata": {},
     "output_type": "execute_result"
    }
   ],
   "source": [
    "train.groupby(by=['FareGroup']).mean()"
   ]
  },
  {
   "cell_type": "code",
   "execution_count": 24,
   "id": "5f5b24dd",
   "metadata": {
    "execution": {
     "iopub.execute_input": "2022-10-02T21:09:15.914602Z",
     "iopub.status.busy": "2022-10-02T21:09:15.914189Z",
     "iopub.status.idle": "2022-10-02T21:09:16.086057Z",
     "shell.execute_reply": "2022-10-02T21:09:16.084888Z"
    },
    "papermill": {
     "duration": 0.186624,
     "end_time": "2022-10-02T21:09:16.088631",
     "exception": false,
     "start_time": "2022-10-02T21:09:15.902007",
     "status": "completed"
    },
    "tags": []
   },
   "outputs": [
    {
     "data": {
      "text/plain": [
       "<matplotlib.collections.PathCollection at 0x7fc1ac9389d0>"
      ]
     },
     "execution_count": 24,
     "metadata": {},
     "output_type": "execute_result"
    },
    {
     "data": {
      "image/png": "[encoded data removed]",
      "text/plain": [
       "<Figure size 432x288 with 1 Axes>"
      ]
     },
     "metadata": {
      "needs_background": "light"
     },
     "output_type": "display_data"
    }
   ],
   "source": [
    "plt.scatter(train['Age'],train['Survived'])"
   ]
  },
  {
   "cell_type": "code",
   "execution_count": 25,
   "id": "37caf590",
   "metadata": {
    "execution": {
     "iopub.execute_input": "2022-10-02T21:09:16.112435Z",
     "iopub.status.busy": "2022-10-02T21:09:16.111611Z",
     "iopub.status.idle": "2022-10-02T21:09:16.416606Z",
     "shell.execute_reply": "2022-10-02T21:09:16.415363Z"
    },
    "papermill": {
     "duration": 0.319739,
     "end_time": "2022-10-02T21:09:16.419109",
     "exception": false,
     "start_time": "2022-10-02T21:09:16.099370",
     "status": "completed"
    },
    "tags": []
   },
   "outputs": [
    {
     "data": {
      "text/plain": [
       "Text(0.5, 0, 'Age')"
      ]
     },
     "execution_count": 25,
     "metadata": {},
     "output_type": "execute_result"
    },
    {
     "data": {
      "image/png": "[encoded data removed]",
      "text/plain": [
       "<Figure size 432x288 with 1 Axes>"
      ]
     },
     "metadata": {
      "needs_background": "light"
     },
     "output_type": "display_data"
    }
   ],
   "source": [
    "import seaborn as sns\n",
    "sns.histplot(x='Age', data=train, binwidth=5, hue='Survived', multiple='stack')\n",
    "plt.ylabel(\"Survived\")\n",
    "plt.xlabel('Age')"
   ]
  },
  {
   "cell_type": "code",
   "execution_count": 26,
   "id": "aea432ef",
   "metadata": {
    "execution": {
     "iopub.execute_input": "2022-10-02T21:09:16.443303Z",
     "iopub.status.busy": "2022-10-02T21:09:16.442516Z",
     "iopub.status.idle": "2022-10-02T21:09:16.451579Z",
     "shell.execute_reply": "2022-10-02T21:09:16.450480Z"
    },
    "papermill": {
     "duration": 0.0238,
     "end_time": "2022-10-02T21:09:16.453951",
     "exception": false,
     "start_time": "2022-10-02T21:09:16.430151",
     "status": "completed"
    },
    "tags": []
   },
   "outputs": [],
   "source": [
    "bins= [0,5,15,20,35,45,50,90]\n",
    "labels = ['baby','kid','teen','young','mid_age','young_old','old']\n",
    "train['AgeGroup'] = pd.cut(train['Age'], bins=bins, labels=labels, right=False)"
   ]
  },
  {
   "cell_type": "code",
   "execution_count": 27,
   "id": "df0f9b60",
   "metadata": {
    "execution": {
     "iopub.execute_input": "2022-10-02T21:09:16.477965Z",
     "iopub.status.busy": "2022-10-02T21:09:16.477188Z",
     "iopub.status.idle": "2022-10-02T21:09:16.705263Z",
     "shell.execute_reply": "2022-10-02T21:09:16.704189Z"
    },
    "papermill": {
     "duration": 0.242752,
     "end_time": "2022-10-02T21:09:16.707686",
     "exception": false,
     "start_time": "2022-10-02T21:09:16.464934",
     "status": "completed"
    },
    "tags": []
   },
   "outputs": [
    {
     "data": {
      "text/plain": [
       "Text(0.5, 0, 'Age group')"
      ]
     },
     "execution_count": 27,
     "metadata": {},
     "output_type": "execute_result"
    },
    {
     "data": {
      "image/png": "[encoded data removed]",
      "text/plain": [
       "<Figure size 432x288 with 1 Axes>"
      ]
     },
     "metadata": {
      "needs_background": "light"
     },
     "output_type": "display_data"
    }
   ],
   "source": [
    "sns.histplot(x='AgeGroup', data=train, binwidth=5, hue='Survived', multiple='stack')\n",
    "plt.ylabel(\"Survived\")\n",
    "plt.xlabel('Age group')"
   ]
  },
  {
   "cell_type": "code",
   "execution_count": 28,
   "id": "181c31cb",
   "metadata": {
    "execution": {
     "iopub.execute_input": "2022-10-02T21:09:16.731901Z",
     "iopub.status.busy": "2022-10-02T21:09:16.731524Z",
     "iopub.status.idle": "2022-10-02T21:09:16.761686Z",
     "shell.execute_reply": "2022-10-02T21:09:16.760470Z"
    },
    "papermill": {
     "duration": 0.044951,
     "end_time": "2022-10-02T21:09:16.764058",
     "exception": false,
     "start_time": "2022-10-02T21:09:16.719107",
     "status": "completed"
    },
    "tags": []
   },
   "outputs": [
    {
     "data": {
      "text/html": [
       "<div>\n",
       "<style scoped>\n",
       "    .dataframe tbody tr th:only-of-type {\n",
       "        vertical-align: middle;\n",
       "    }\n",
       "\n",
       "    .dataframe tbody tr th {\n",
       "        vertical-align: top;\n",
       "    }\n",
       "\n",
       "    .dataframe thead th {\n",
       "        text-align: right;\n",
       "    }\n",
       "</style>\n",
       "<table border=\"1\" class=\"dataframe\">\n",
       "  <thead>\n",
       "    <tr style=\"text-align: right;\">\n",
       "      <th></th>\n",
       "      <th>Survived</th>\n",
       "      <th>Sex_female</th>\n",
       "      <th>Sex_male</th>\n",
       "      <th>Embarked_C</th>\n",
       "      <th>Embarked_Q</th>\n",
       "      <th>Embarked_S</th>\n",
       "      <th>AgeGroup_baby</th>\n",
       "      <th>AgeGroup_kid</th>\n",
       "      <th>AgeGroup_teen</th>\n",
       "      <th>AgeGroup_young</th>\n",
       "      <th>AgeGroup_mid_age</th>\n",
       "      <th>AgeGroup_young_old</th>\n",
       "      <th>AgeGroup_old</th>\n",
       "      <th>FareGroup_high</th>\n",
       "      <th>FareGroup_low</th>\n",
       "    </tr>\n",
       "  </thead>\n",
       "  <tbody>\n",
       "    <tr>\n",
       "      <th>0</th>\n",
       "      <td>0</td>\n",
       "      <td>0</td>\n",
       "      <td>1</td>\n",
       "      <td>0</td>\n",
       "      <td>0</td>\n",
       "      <td>1</td>\n",
       "      <td>0</td>\n",
       "      <td>0</td>\n",
       "      <td>0</td>\n",
       "      <td>1</td>\n",
       "      <td>0</td>\n",
       "      <td>0</td>\n",
       "      <td>0</td>\n",
       "      <td>1</td>\n",
       "      <td>0</td>\n",
       "    </tr>\n",
       "    <tr>\n",
       "      <th>1</th>\n",
       "      <td>1</td>\n",
       "      <td>1</td>\n",
       "      <td>0</td>\n",
       "      <td>1</td>\n",
       "      <td>0</td>\n",
       "      <td>0</td>\n",
       "      <td>0</td>\n",
       "      <td>0</td>\n",
       "      <td>0</td>\n",
       "      <td>0</td>\n",
       "      <td>1</td>\n",
       "      <td>0</td>\n",
       "      <td>0</td>\n",
       "      <td>1</td>\n",
       "      <td>0</td>\n",
       "    </tr>\n",
       "    <tr>\n",
       "      <th>2</th>\n",
       "      <td>1</td>\n",
       "      <td>1</td>\n",
       "      <td>0</td>\n",
       "      <td>0</td>\n",
       "      <td>0</td>\n",
       "      <td>1</td>\n",
       "      <td>0</td>\n",
       "      <td>0</td>\n",
       "      <td>0</td>\n",
       "      <td>1</td>\n",
       "      <td>0</td>\n",
       "      <td>0</td>\n",
       "      <td>0</td>\n",
       "      <td>1</td>\n",
       "      <td>0</td>\n",
       "    </tr>\n",
       "    <tr>\n",
       "      <th>3</th>\n",
       "      <td>1</td>\n",
       "      <td>1</td>\n",
       "      <td>0</td>\n",
       "      <td>0</td>\n",
       "      <td>0</td>\n",
       "      <td>1</td>\n",
       "      <td>0</td>\n",
       "      <td>0</td>\n",
       "      <td>0</td>\n",
       "      <td>0</td>\n",
       "      <td>1</td>\n",
       "      <td>0</td>\n",
       "      <td>0</td>\n",
       "      <td>1</td>\n",
       "      <td>0</td>\n",
       "    </tr>\n",
       "    <tr>\n",
       "      <th>4</th>\n",
       "      <td>0</td>\n",
       "      <td>0</td>\n",
       "      <td>1</td>\n",
       "      <td>0</td>\n",
       "      <td>0</td>\n",
       "      <td>1</td>\n",
       "      <td>0</td>\n",
       "      <td>0</td>\n",
       "      <td>0</td>\n",
       "      <td>0</td>\n",
       "      <td>1</td>\n",
       "      <td>0</td>\n",
       "      <td>0</td>\n",
       "      <td>1</td>\n",
       "      <td>0</td>\n",
       "    </tr>\n",
       "  </tbody>\n",
       "</table>\n",
       "</div>"
      ],
      "text/plain": [
       "   Survived  Sex_female  Sex_male  Embarked_C  Embarked_Q  Embarked_S  \\\n",
       "0         0           0         1           0           0           1   \n",
       "1         1           1         0           1           0           0   \n",
       "2         1           1         0           0           0           1   \n",
       "3         1           1         0           0           0           1   \n",
       "4         0           0         1           0           0           1   \n",
       "\n",
       "   AgeGroup_baby  AgeGroup_kid  AgeGroup_teen  AgeGroup_young  \\\n",
       "0              0             0              0               1   \n",
       "1              0             0              0               0   \n",
       "2              0             0              0               1   \n",
       "3              0             0              0               0   \n",
       "4              0             0              0               0   \n",
       "\n",
       "   AgeGroup_mid_age  AgeGroup_young_old  AgeGroup_old  FareGroup_high  \\\n",
       "0                 0                   0             0               1   \n",
       "1                 1                   0             0               1   \n",
       "2                 0                   0             0               1   \n",
       "3                 1                   0             0               1   \n",
       "4                 1                   0             0               1   \n",
       "\n",
       "   FareGroup_low  \n",
       "0              0  \n",
       "1              0  \n",
       "2              0  \n",
       "3              0  \n",
       "4              0  "
      ]
     },
     "execution_count": 28,
     "metadata": {},
     "output_type": "execute_result"
    }
   ],
   "source": [
    "train_dummies = pd.get_dummies(train[['Sex','Embarked','SibSp','Parch','Pclass','AgeGroup','FareGroup']])\n",
    "train = pd.concat([train,train_dummies],axis=1)\n",
    "train.drop(columns=['Sex','Embarked','SibSp','Parch','Pclass','AgeGroup', 'Age','Fare','FareGroup'],inplace=True)\n",
    "train.head()"
   ]
  },
  {
   "cell_type": "code",
   "execution_count": 29,
   "id": "7ec77523",
   "metadata": {
    "execution": {
     "iopub.execute_input": "2022-10-02T21:09:16.788823Z",
     "iopub.status.busy": "2022-10-02T21:09:16.788437Z",
     "iopub.status.idle": "2022-10-02T21:09:16.794679Z",
     "shell.execute_reply": "2022-10-02T21:09:16.793644Z"
    },
    "papermill": {
     "duration": 0.021276,
     "end_time": "2022-10-02T21:09:16.796898",
     "exception": false,
     "start_time": "2022-10-02T21:09:16.775622",
     "status": "completed"
    },
    "tags": []
   },
   "outputs": [],
   "source": [
    "y_train = train['Survived']\n",
    "x_train = train.drop(columns='Survived')"
   ]
  },
  {
   "cell_type": "code",
   "execution_count": 30,
   "id": "acec6f57",
   "metadata": {
    "execution": {
     "iopub.execute_input": "2022-10-02T21:09:16.820903Z",
     "iopub.status.busy": "2022-10-02T21:09:16.820529Z",
     "iopub.status.idle": "2022-10-02T21:09:16.832233Z",
     "shell.execute_reply": "2022-10-02T21:09:16.831123Z"
    },
    "papermill": {
     "duration": 0.026417,
     "end_time": "2022-10-02T21:09:16.834594",
     "exception": false,
     "start_time": "2022-10-02T21:09:16.808177",
     "status": "completed"
    },
    "tags": []
   },
   "outputs": [
    {
     "data": {
      "text/plain": [
       "Survived              0\n",
       "Sex_female            0\n",
       "Sex_male              0\n",
       "Embarked_C            0\n",
       "Embarked_Q            0\n",
       "Embarked_S            0\n",
       "AgeGroup_baby         0\n",
       "AgeGroup_kid          0\n",
       "AgeGroup_teen         0\n",
       "AgeGroup_young        0\n",
       "AgeGroup_mid_age      0\n",
       "AgeGroup_young_old    0\n",
       "AgeGroup_old          0\n",
       "FareGroup_high        0\n",
       "FareGroup_low         0\n",
       "dtype: int64"
      ]
     },
     "execution_count": 30,
     "metadata": {},
     "output_type": "execute_result"
    }
   ],
   "source": [
    "test.drop(columns=['PassengerId','Name','Ticket', 'Cabin'],inplace=True)\n",
    "train.isnull().sum()\n",
    "\n",
    "# for row_index, group in test_nan.iterrows():\n",
    "#     for i, record in test[test['Age'].isnull()].iterrows():\n",
    "#         if(record['Pclass']==row_index[1] and record['Parch']==row_index[2]):\n",
    "#             test.at[i,'Age'] = mean_value.loc[row_index,]\n",
    "            \n",
    "            \n",
    "# for i in test.index:\n",
    "#     if test.loc[i,'Fare'] > 73:       \n",
    "#         test.at[i,'FareGroup'] = 'low'\n",
    "#     else:\n",
    "#         test.at[i,'FareGroup'] = 'high' \n",
    "# test['AgeGroup'] = pd.cut(test['Age'], bins=bins, labels=labels, right=False)\n",
    "\n",
    "# test_dummies = pd.get_dummies(test[['Sex','Embarked','SibSp','Parch','Pclass','AgeGroup','FareGroup']])\n",
    "# test = pd.concat([test,test_dummies],axis=1)\n",
    "# test.drop(columns=['Sex','Embarked','SibSp','Parch','Pclass','AgeGroup', 'Age','Fare','FareGroup'],inplace=True)"
   ]
  },
  {
   "cell_type": "code",
   "execution_count": 31,
   "id": "322e4618",
   "metadata": {
    "execution": {
     "iopub.execute_input": "2022-10-02T21:09:16.859248Z",
     "iopub.status.busy": "2022-10-02T21:09:16.858856Z",
     "iopub.status.idle": "2022-10-02T21:09:16.863463Z",
     "shell.execute_reply": "2022-10-02T21:09:16.862423Z"
    },
    "papermill": {
     "duration": 0.019558,
     "end_time": "2022-10-02T21:09:16.865623",
     "exception": false,
     "start_time": "2022-10-02T21:09:16.846065",
     "status": "completed"
    },
    "tags": []
   },
   "outputs": [],
   "source": [
    "# from sklearn.tree import DecisionTreeClassifier\n",
    "# dt = DecisionTreeClassifier()\n",
    "# dt.fit(x_train, y_train)\n",
    "# y_predict = dt.predict()"
   ]
  }
 ],
 "metadata": {
  "kernelspec": {
   "display_name": "Python 3",
   "language": "python",
   "name": "python3"
  },
  "language_info": {
   "codemirror_mode": {
    "name": "ipython",
    "version": 3
   },
   "file_extension": ".py",
   "mimetype": "text/x-python",
   "name": "python",
   "nbconvert_exporter": "python",
   "pygments_lexer": "ipython3",
   "version": "3.7.12"
  },
  "papermill": {
   "default_parameters": {},
   "duration": 13.020412,
   "end_time": "2022-10-02T21:09:17.597317",
   "environment_variables": {},
   "exception": null,
   "input_path": "__notebook__.ipynb",
   "output_path": "__notebook__.ipynb",
   "parameters": {},
   "start_time": "2022-10-02T21:09:04.576905",
   "version": "2.3.4"
  }
 },
 "nbformat": 4,
 "nbformat_minor": 5
}
